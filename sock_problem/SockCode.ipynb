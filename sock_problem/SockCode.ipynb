{
 "cells": [
  {
   "attachments": {},
   "cell_type": "markdown",
   "metadata": {},
   "source": [
    "The Sock Problem\n",
    "Goal: Write functions that describe the sock problem then perform bpe"
   ]
  },
  {
   "cell_type": "code",
   "execution_count": 86,
   "metadata": {},
   "outputs": [],
   "source": [
    "#Imports\n",
    "import numpy as np\n",
    "import matplotlib    \n",
    "import matplotlib.pyplot as plt\n",
    "import random"
   ]
  },
  {
   "cell_type": "code",
   "execution_count": 87,
   "metadata": {},
   "outputs": [],
   "source": [
    "def drawer(red_fraction = 0.75):\n",
    "    color = random.random()\n",
    "    if color < red_fraction:\n",
    "        return True\n",
    "    else:\n",
    "        return False"
   ]
  },
  {
   "cell_type": "code",
   "execution_count": 88,
   "metadata": {},
   "outputs": [],
   "source": [
    "def likelihood(x,N=5):\n",
    "\n",
    "    if x == True:\n",
    "        #pl = [0, .25, .5, .75, 1]\n",
    "        p = 0\n",
    "        pl = []\n",
    "        for i in range(N):\n",
    "            pl.append(p)\n",
    "            p += 1/(N-1)\n",
    "    else:\n",
    "        #pl = [1, .75, .5, .25, 0]\n",
    "        p = 1\n",
    "        pl = []\n",
    "        for i in range(N):\n",
    "            pl.append(p)\n",
    "            p -= 1/(N-1)\n",
    "    return pl\n",
    "        "
   ]
  },
  {
   "cell_type": "code",
   "execution_count": 91,
   "metadata": {},
   "outputs": [],
   "source": [
    "def bayes(n,N=5, red_fraction = 0.75):\n",
    "    # global count \n",
    "    # count = 0 # first run\n",
    "    obs1 = drawer(red_fraction)\n",
    "    lik1 = likelihood(obs1,N) #gives list of probabilities\n",
    "    joint1 = []\n",
    "    for i in range(N):\n",
    "        joint1.append(lik1[i]*(1/N))\n",
    "    evidence1 = 0.5\n",
    "    posterior = []\n",
    "    for i in range(N):\n",
    "        posterior.append(joint1[i]/evidence1)\n",
    "    def bayes2(posterior):\n",
    "        obs = drawer(red_fraction)\n",
    "        prior = posterior\n",
    "        lik = likelihood(obs,N)\n",
    "        joint = []\n",
    "        evidence = 0\n",
    "        for i in range(N):\n",
    "            joint.append(lik[i]*prior[i])\n",
    "            evidence += lik[i]*prior[i]\n",
    "        posterior = []\n",
    "        for i in range(N):\n",
    "            posterior.append(joint[i]/evidence)\n",
    "        return posterior\n",
    "    # bayes2(posterior)\n",
    "    posts = []\n",
    "    for i in range(n):\n",
    "        posts.append(posterior)\n",
    "        posterior = bayes2(posterior)\n",
    "        \n",
    "    return posterior, posts"
   ]
  },
  {
   "cell_type": "code",
   "execution_count": 92,
   "metadata": {},
   "outputs": [
    {
     "name": "stdout",
     "output_type": "stream",
     "text": [
      "[]\n"
     ]
    },
    {
     "data": {
      "image/png": "[encoded data removed]",
      "text/plain": [
       "<Figure size 1000x500 with 1 Axes>"
      ]
     },
     "metadata": {},
     "output_type": "display_data"
    }
   ],
   "source": [
    "n = 299 # num iterations\n",
    "N = 40 # num socks\n",
    "red_fraction = 30/40\n",
    "plot, posts = bayes(n,N,red_fraction) \n",
    "prior = [1/N for i in range(N)]\n",
    "posts.insert(0, prior)\n",
    "posts = np.array(posts)\n",
    "\n",
    "good_list = []\n",
    "p = 0\n",
    "pl = []\n",
    "for i in range(N):\n",
    "    good_list.append(\"{:.2f}\".format(p))\n",
    "    p += 1/(N-1)\n",
    "print(pl)\n",
    "\n",
    "\n",
    "plt.figure(figsize=(10,5))\n",
    "plt.ylim([0, 1])\n",
    "plt.xlabel(\"Red Fraction\")\n",
    "plt.title(\"Sock Probabilities\")\n",
    "plt.ylabel(\"Probability\")\n",
    "plt.xticks(rotation='vertical')\n",
    "plt.bar(good_list, plot)\n",
    "plt.ylim([0, 1])\n",
    "plt.show()"
   ]
  },
  {
   "cell_type": "code",
   "execution_count": 59,
   "metadata": {},
   "outputs": [
    {
     "name": "stdout",
     "output_type": "stream",
     "text": [
      "[]\n"
     ]
    }
   ],
   "source": [
    "# for making gifs\n",
    "for i, post in enumerate(posts):\n",
    "    plt.figure(figsize=(10,5))\n",
    "    plt.ylim([0, 1])\n",
    "    plt.xlabel(\"Red Fraction\")\n",
    "    plt.title(\"Sock Probabilities\")\n",
    "    plt.ylabel(\"Probability\")\n",
    "    plt.xticks(rotation='vertical')\n",
    "    plt.bar(good_list, post)\n",
    "   # plt.savefig(\"fig\" + str(i) + \".png\")\n",
    "    plt.close()"
   ]
  }
 ],
 "metadata": {
  "kernelspec": {
   "display_name": "bpe",
   "language": "python",
   "name": "python3"
  },
  "language_info": {
   "codemirror_mode": {
    "name": "ipython",
    "version": 3
   },
   "file_extension": ".py",
   "mimetype": "text/x-python",
   "name": "python",
   "nbconvert_exporter": "python",
   "pygments_lexer": "ipython3",
   "version": "3.11.3"
  },
  "orig_nbformat": 4
 },
 "nbformat": 4,
 "nbformat_minor": 2
}
