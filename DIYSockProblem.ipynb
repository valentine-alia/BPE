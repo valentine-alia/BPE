{
 "cells": [
  {
   "attachments": {},
   "cell_type": "markdown",
   "metadata": {},
   "source": [
    "### DIY Sock Problem ###"
   ]
  },
  {
   "cell_type": "code",
   "execution_count": null,
   "metadata": {},
   "outputs": [],
   "source": [
    "#Imports\n",
    "import numpy as np  \n",
    "import matplotlib.pyplot as plt\n",
    "import random"
   ]
  },
  {
   "cell_type": "code",
   "execution_count": null,
   "metadata": {},
   "outputs": [],
   "source": [
    "def likelihood(x):\n",
    "    if x == True:\n",
    "        pl = [0, .25, .5, .75, 1]\n",
    "    else:\n",
    "        pl = [1, .75, .5, .25, 0]\n",
    "    return pl\n",
    "\n",
    "#code for inputting number of red and blue socks\n",
    "\n",
    "def bayes(n):\n",
    "    # global count \n",
    "    # count = 0 # first run\n",
    "    #obs1 = drawer()\n",
    "    obs1 = True\n",
    "    observation1 = int(input(\"First observation: 1 for red, 0 for blue\"))\n",
    "    if observation1 == 1:\n",
    "        obs1 = True\n",
    "    else:\n",
    "        obs1 = False\n",
    "    print(\"obs1 is \" + str(obs1))\n",
    "    lik1 = likelihood(obs1) #gives list of probabilities\n",
    "    joint1 = []\n",
    "    for i in range(5):\n",
    "        joint1.append(lik1[i]*0.2)\n",
    "    evidence1 = 0.5\n",
    "    posterior = []\n",
    "    for i in range(5):\n",
    "        posterior.append(joint1[i]/evidence1)\n",
    "    def bayes2(posterior):\n",
    "\n",
    "        observation = int(input(\"Next sock color? 1 for red, 0 for blue\"))\n",
    "        if observation == 1:\n",
    "            obs = True\n",
    "        else:\n",
    "            obs = False\n",
    "        \n",
    "        print(\"obs is \" + str(obs))\n",
    "        prior = posterior\n",
    "        lik = likelihood(obs)\n",
    "        joint = []\n",
    "        evidence = 0\n",
    "        for i in range(5):\n",
    "            joint.append(lik[i]*prior[i])\n",
    "            evidence += lik[i]*prior[i]\n",
    "            #print(evidence)\n",
    "        posterior = []\n",
    "        for i in range(5):\n",
    "            posterior.append(joint[i]/evidence)\n",
    "        return posterior\n",
    "    # bayes2(posterior)\n",
    "\n",
    "    for i in range(n):\n",
    "        posterior = bayes2(posterior)\n",
    "        \n",
    "    return posterior\n",
    "\n",
    "p = int(input(\"How many socks would you like to draw\"))\n",
    "bayes(3)"
   ]
  },
  {
   "cell_type": "code",
   "execution_count": null,
   "metadata": {},
   "outputs": [],
   "source": []
  }
 ],
 "metadata": {
  "kernelspec": {
   "display_name": "bpe",
   "language": "python",
   "name": "python3"
  },
  "language_info": {
   "codemirror_mode": {
    "name": "ipython",
    "version": 3
   },
   "file_extension": ".py",
   "mimetype": "text/x-python",
   "name": "python",
   "nbconvert_exporter": "python",
   "pygments_lexer": "ipython3",
   "version": "3.11.3"
  },
  "orig_nbformat": 4
 },
 "nbformat": 4,
 "nbformat_minor": 2
}
