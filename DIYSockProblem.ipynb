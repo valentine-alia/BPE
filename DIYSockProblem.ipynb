{
 "cells": [
  {
   "attachments": {},
   "cell_type": "markdown",
   "metadata": {},
   "source": [
    "### DIY Sock Problem ###"
   ]
  },
  {
   "cell_type": "code",
<<<<<<< Updated upstream
   "execution_count": null,
=======
   "execution_count": 1,
>>>>>>> Stashed changes
   "metadata": {},
   "outputs": [],
   "source": [
    "#Imports\n",
    "import numpy as np  \n",
    "import matplotlib.pyplot as plt\n",
    "import random"
   ]
  },
  {
   "cell_type": "code",
<<<<<<< Updated upstream
   "execution_count": null,
=======
   "execution_count": 6,
>>>>>>> Stashed changes
   "metadata": {},
   "outputs": [],
   "source": [
    "def likelihood(x):\n",
    "    if x == True:\n",
    "        pl = [0, .25, .5, .75, 1]\n",
    "    else:\n",
    "        pl = [1, .75, .5, .25, 0]\n",
    "    return pl\n",
    "\n",
    "#code for inputting number of red and blue socks\n",
    "\n",
    "def bayes(n):\n",
    "    # global count \n",
    "    # count = 0 # first run\n",
    "    #obs1 = drawer()\n",
    "    obs1 = True\n",
    "    observation1 = int(input(\"First observation: 1 for red, 0 for blue\"))\n",
    "    if observation1 == 1:\n",
    "        obs1 = True\n",
    "    else:\n",
    "        obs1 = False\n",
<<<<<<< Updated upstream
    "    print(\"obs1 is \" + str(obs1))\n",
=======
    "    #print(\"obs1 is \" + str(obs1))\n",
>>>>>>> Stashed changes
    "    lik1 = likelihood(obs1) #gives list of probabilities\n",
    "    joint1 = []\n",
    "    for i in range(5):\n",
    "        joint1.append(lik1[i]*0.2)\n",
    "    evidence1 = 0.5\n",
    "    posterior = []\n",
    "    for i in range(5):\n",
    "        posterior.append(joint1[i]/evidence1)\n",
    "    def bayes2(posterior):\n",
    "\n",
    "        observation = int(input(\"Next sock color? 1 for red, 0 for blue\"))\n",
    "        if observation == 1:\n",
    "            obs = True\n",
    "        else:\n",
    "            obs = False\n",
    "        \n",
<<<<<<< Updated upstream
    "        print(\"obs is \" + str(obs))\n",
=======
    "        #print(\"obs is \" + str(obs))\n",
>>>>>>> Stashed changes
    "        prior = posterior\n",
    "        lik = likelihood(obs)\n",
    "        joint = []\n",
    "        evidence = 0\n",
    "        for i in range(5):\n",
    "            joint.append(lik[i]*prior[i])\n",
    "            evidence += lik[i]*prior[i]\n",
    "            #print(evidence)\n",
    "        posterior = []\n",
    "        for i in range(5):\n",
    "            posterior.append(joint[i]/evidence)\n",
    "        return posterior\n",
    "    # bayes2(posterior)\n",
    "\n",
    "    for i in range(n):\n",
    "        posterior = bayes2(posterior)\n",
    "        \n",
    "    return posterior\n",
<<<<<<< Updated upstream
    "\n",
    "p = int(input(\"How many socks would you like to draw\"))\n",
    "bayes(3)"
=======
    "\n"
>>>>>>> Stashed changes
   ]
  },
  {
   "cell_type": "code",
<<<<<<< Updated upstream
   "execution_count": null,
   "metadata": {},
   "outputs": [],
   "source": []
=======
   "execution_count": 7,
   "metadata": {},
   "outputs": [
    {
     "data": {
      "text/plain": [
       "<Figure size 800x600 with 0 Axes>"
      ]
     },
     "execution_count": 7,
     "metadata": {},
     "output_type": "execute_result"
    },
    {
     "data": {
      "image/png": "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",
      "text/plain": [
       "<Figure size 640x480 with 1 Axes>"
      ]
     },
     "metadata": {},
     "output_type": "display_data"
    },
    {
     "data": {
      "text/plain": [
       "<Figure size 800x600 with 0 Axes>"
      ]
     },
     "metadata": {},
     "output_type": "display_data"
    }
   ],
   "source": [
    "X = [1, 2, 3, 4, 5]\n",
    "  \n",
    "X_axis = np.arange(len(X))\n",
    "p = int(input(\"How many socks would you like to draw\"))\n",
    "plt.bar(X_axis, bayes(p-1), color = 'red')\n",
    "plt.xlabel(\"Number of Red Socks\")\n",
    "plt.ylabel(\"Posterior Probability\")\n",
    "plt.title(\"DIY Sock Problem!\")\n",
    "plt.figure(figsize= (8,6))"
   ]
>>>>>>> Stashed changes
  }
 ],
 "metadata": {
  "kernelspec": {
   "display_name": "bpe",
   "language": "python",
   "name": "python3"
  },
  "language_info": {
   "codemirror_mode": {
    "name": "ipython",
    "version": 3
   },
   "file_extension": ".py",
   "mimetype": "text/x-python",
   "name": "python",
   "nbconvert_exporter": "python",
   "pygments_lexer": "ipython3",
   "version": "3.11.3"
  },
  "orig_nbformat": 4
 },
 "nbformat": 4,
 "nbformat_minor": 2
}
