{
 "cells": [
  {
   "cell_type": "code",
   "execution_count": null,
   "metadata": {},
   "outputs": [],
   "source": [
    "import numpy as np\n",
    "from pyvbmc import VBMC \n",
    "from pyvbmc.priors import SplineTrapezoidal\n",
    "from scipy.integrate import solve_ivp\n",
    "import sympy as sym\n",
    "from pyvbmc.acquisition_functions import AcqFcnLog, AcqFcnNoisy, AcqFcnVIQR, AcqFcnIMIQR, AcqFcnVanilla\n",
    "from pyvbmc import VariationalPosterior"
   ]
  },
  {
   "cell_type": "code",
   "execution_count": 2,
   "metadata": {},
   "outputs": [
    {
     "ename": "NameError",
     "evalue": "name 'sym' is not defined",
     "output_type": "error",
     "traceback": [
      "\u001b[1;31m---------------------------------------------------------------------------\u001b[0m",
      "\u001b[1;31mNameError\u001b[0m                                 Traceback (most recent call last)",
      "Cell \u001b[1;32mIn[2], line 2\u001b[0m\n\u001b[0;32m      1\u001b[0m \u001b[39m# variables setup\u001b[39;00m\n\u001b[1;32m----> 2\u001b[0m m1,m2,m3,k1,k2,k3,k4,time \u001b[39m=\u001b[39m sym\u001b[39m.\u001b[39msymbols(\u001b[39m'\u001b[39m\u001b[39mm_1,m_2,m_3,k_1,k_2,k_3,k_4,t\u001b[39m\u001b[39m'\u001b[39m)\n\u001b[0;32m      3\u001b[0m x1 \u001b[39m=\u001b[39m sym\u001b[39m.\u001b[39mFunction(\u001b[39mr\u001b[39m\u001b[39m'\u001b[39m\u001b[39m\\\u001b[39m\u001b[39mx_1\u001b[39m\u001b[39m'\u001b[39m)(time)\n\u001b[0;32m      4\u001b[0m x2 \u001b[39m=\u001b[39m sym\u001b[39m.\u001b[39mFunction(\u001b[39mr\u001b[39m\u001b[39m'\u001b[39m\u001b[39m\\\u001b[39m\u001b[39mx_2\u001b[39m\u001b[39m'\u001b[39m)(time)\n",
      "\u001b[1;31mNameError\u001b[0m: name 'sym' is not defined"
     ]
    }
   ],
   "source": [
    "vps = []\n",
    "count = 0\n",
    "seeds = np.arange(10)\n",
    "acquisition_functions = [AcqFcnLog(), AcqFcnNoisy(), AcqFcnVIQR()] # AcqFcnIMIQR() , AcqFcnVanilla()]\n",
    "for i, acq in enumerate(acquisition_functions):\n",
    "    for j in range(1,4):\n",
    "        for seed in seeds:\n",
    "            name = \"vp\" + str(i) + \"_\" +  str(j) + \"_\" + str(seed) + \".pkl\"\n",
    "            vps.append(VariationalPosterior.load(name))\n",
    "            count += 1"
   ]
  },
  {
   "cell_type": "code",
   "execution_count": null,
   "metadata": {},
   "outputs": [],
   "source": [
    "type(vps[0])"
   ]
  },
  {
   "cell_type": "code",
   "execution_count": null,
   "metadata": {},
   "outputs": [],
   "source": []
  }
 ],
 "metadata": {
  "kernelspec": {
   "display_name": "bpe",
   "language": "python",
   "name": "python3"
  },
  "language_info": {
   "codemirror_mode": {
    "name": "ipython",
    "version": 3
   },
   "file_extension": ".py",
   "mimetype": "text/x-python",
   "name": "python",
   "nbconvert_exporter": "python",
   "pygments_lexer": "ipython3",
   "version": "3.11.3"
  },
  "orig_nbformat": 4
 },
 "nbformat": 4,
 "nbformat_minor": 2
}
