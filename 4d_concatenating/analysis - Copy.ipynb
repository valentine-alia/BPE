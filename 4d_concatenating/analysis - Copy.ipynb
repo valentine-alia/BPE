{
 "cells": [
  {
   "cell_type": "code",
   "execution_count": 3,
   "metadata": {},
   "outputs": [],
   "source": [
    "import numpy as np\n",
    "from pyvbmc.acquisition_functions import AcqFcnLog, AcqFcnNoisy, AcqFcnVIQR\n",
    "from pyvbmc import VariationalPosterior\n",
    "\n",
    "seeds = np.arange(10)\n",
    "acquisition_functions = [AcqFcnLog(), AcqFcnNoisy(), AcqFcnVIQR()]\n",
    "for i, acq in enumerate(acquisition_functions):\n",
    "    for j in range(1,4):\n",
    "        for seed in seeds:\n",
    "            pickle_name = \"vp\" + str(i) + \"_\" +  str(j) + \"_\" + str(seed) + \".pkl\"\n",
    "            hdf5_name = \"vp\" + str(i) + \"_\" +  str(j) + \"_\" + str(seed) + \".hdf5\"\n",
    "            vp = VariationalPosterior.load(pickle_name)\n",
    "            vp.save(hdf5_name, overwrite=True)\n",
    "\n",
    "for seed in seeds:\n",
    "    pickle_name = \"vp\" + str(3) + \"_\" +  str(1) + \"_\" + str(seed) + \".pkl\"\n",
    "    hdf5_name = \"vp\" + str(3) + \"_\" +  str(1) + \"_\" + str(seed) + \".hdf5\"\n",
    "    vp = VariationalPosterior.load(pickle_name)\n",
    "    vp.save(hdf5_name, overwrite=True)"
   ]
  },
  {
   "cell_type": "code",
   "execution_count": 2,
   "metadata": {},
   "outputs": [],
   "source": [
    "import numpy as np\n",
    "from pyvbmc.acquisition_functions import AcqFcnLog, AcqFcnNoisy, AcqFcnVIQR\n",
    "from pyvbmc import VariationalPosterior\n",
    "vps = []\n",
    "seeds = np.arange(10)\n",
    "acquisition_functions = [AcqFcnLog(), AcqFcnNoisy(), AcqFcnVIQR()]\n",
    "for i, acq in enumerate(acquisition_functions):\n",
    "    for j in range(1,4):\n",
    "        for seed in seeds:\n",
    "            hdf5_name = \"vp\" + str(i) + \"_\" +  str(j) + \"_\" + str(seed) + \".hdf5\"\n",
    "            vp = VariationalPosterior.load(hdf5_name)\n",
    "            vps.append(vp)\n",
    "# for seed in seeds:\n",
    "#     pickle_name = \"vp\" + str(3) + \"_\" +  str(1) + \"_\" + str(seed) + \".pkl\"\n",
    "#     hdf5_name = \"vp\" + str(3) + \"_\" +  str(1) + \"_\" + str(seed) + \".hdf5\"\n",
    "#     vp = VariationalPosterior.load(pickle_name)\n",
    "#     vp.save(hdf5_name, overwrite=True)"
   ]
  },
  {
   "cell_type": "code",
   "execution_count": 4,
   "metadata": {},
   "outputs": [
    {
     "data": {
      "text/plain": [
       "VariationalPosterior:\n",
       "    self.D = 4,\n",
       "    self.K = 50,\n",
       "    self.mu = (4, 50) ndarray,\n",
       "    self.w = (1, 50) ndarray,\n",
       "    self.sigma = (1, 50) ndarray,\n",
       "    self.lambd = \n",
       "        [[0.8722],\n",
       "         [0.9177],\n",
       "         [1.0555],\n",
       "         [1.1328]] : ndarray,\n",
       "    self.stats = <dict object at 0x000001B4A4347940>,\n",
       "    self._mode = None,\n",
       "    self.bounds = None,\n",
       "    self.eta = (1, 50) ndarray,\n",
       "    self.optimize_lambd = True,\n",
       "    self.optimize_mu = True,\n",
       "    self.optimize_sigma = True,\n",
       "    self.optimize_weights = True,\n",
       "    self.parameter_transformer = ParameterTransformer:\n",
       "        self.lb_orig = [[0., 0., 0., 0.]] : ndarray,\n",
       "        self.ub_orig = [[50., 50., 50., 50.]] : ndarray,\n",
       "        self.type = [12., 12., 12., 12.] : ndarray,\n",
       "        self.mu = [0., 0., 0., 0.] : ndarray,\n",
       "        self.delta = [1., 1., 1., 1.] : ndarray,\n",
       "        self.scale = [0.0004, 0.0002, 0.0002, 0.0001] : ndarray,\n",
       "        self.R_mat = (4, 4) ndarray,\n",
       "        self._bounded_transforms = <dict object at 0x000001B4A4247F80>,\n",
       "        self.bounded_types = [12]"
      ]
     },
     "execution_count": 4,
     "metadata": {},
     "output_type": "execute_result"
    }
   ],
   "source": [
    "vps[0]"
   ]
  },
  {
   "cell_type": "code",
   "execution_count": 6,
   "metadata": {},
   "outputs": [
    {
     "ename": "",
     "evalue": "",
     "output_type": "error",
     "traceback": [
      "\u001b[1;31mCannot execute code, session has been disposed. Please try restarting the Kernel."
     ]
    },
    {
     "ename": "",
     "evalue": "",
     "output_type": "error",
     "traceback": [
      "\u001b[1;31mThe Kernel crashed while executing code in the the current cell or a previous cell. Please review the code in the cell(s) to identify a possible cause of the failure. Click <a href='https://aka.ms/vscodeJupyterKernelCrash'>here</a> for more info. View Jupyter <a href='command:jupyter.viewOutput'>log</a> for further details."
     ]
    }
   ],
   "source": [
    "vps[0].plot();"
   ]
  },
  {
   "cell_type": "code",
   "execution_count": 4,
   "metadata": {},
   "outputs": [],
   "source": [
    "vp = VariationalPosterior.load(\"vp0_1_0.json\")"
   ]
  },
  {
   "cell_type": "code",
   "execution_count": 5,
   "metadata": {},
   "outputs": [
    {
     "data": {
      "text/plain": [
       "VariationalPosterior:\n",
       "    self.D = 4,\n",
       "    self.K = 50,\n",
       "    self.mu = (4, 50) ndarray,\n",
       "    self.w = (1, 50) ndarray,\n",
       "    self.sigma = (1, 50) ndarray,\n",
       "    self.lambd = \n",
       "        [[0.8722],\n",
       "         [0.9177],\n",
       "         [1.0555],\n",
       "         [1.1328]] : ndarray,\n",
       "    self.stats = <dict object at 0x000001FCC3C63AC0>,\n",
       "    self._mode = None,\n",
       "    self.bounds = None,\n",
       "    self.eta = (1, 50) ndarray,\n",
       "    self.optimize_lambd = True,\n",
       "    self.optimize_mu = True,\n",
       "    self.optimize_sigma = True,\n",
       "    self.optimize_weights = True,\n",
       "    self.parameter_transformer = ParameterTransformer:\n",
       "        self.lb_orig = [[0., 0., 0., 0.]] : ndarray,\n",
       "        self.ub_orig = [[50., 50., 50., 50.]] : ndarray,\n",
       "        self.type = [12., 12., 12., 12.] : ndarray,\n",
       "        self.mu = [0., 0., 0., 0.] : ndarray,\n",
       "        self.delta = [1., 1., 1., 1.] : ndarray,\n",
       "        self.scale = [0.0004, 0.0002, 0.0002, 0.0001] : ndarray,\n",
       "        self.R_mat = (4, 4) ndarray,\n",
       "        self._bounded_transforms = <dict object at 0x000001FCBE02F640>,\n",
       "        self.bounded_types = [12]"
      ]
     },
     "execution_count": 5,
     "metadata": {},
     "output_type": "execute_result"
    }
   ],
   "source": [
    "vp"
   ]
  },
  {
   "cell_type": "code",
   "execution_count": 6,
   "metadata": {},
   "outputs": [
    {
     "ename": "",
     "evalue": "",
     "output_type": "error",
     "traceback": [
      "\u001b[1;31mCannot execute code, session has been disposed. Please try restarting the Kernel."
     ]
    },
    {
     "ename": "",
     "evalue": "",
     "output_type": "error",
     "traceback": [
      "\u001b[1;31mThe Kernel crashed while executing code in the the current cell or a previous cell. Please review the code in the cell(s) to identify a possible cause of the failure. Click <a href='https://aka.ms/vscodeJupyterKernelCrash'>here</a> for more info. View Jupyter <a href='command:jupyter.viewOutput'>log</a> for further details."
     ]
    }
   ],
   "source": [
    "vp.plot()"
   ]
  },
  {
   "cell_type": "code",
   "execution_count": null,
   "metadata": {},
   "outputs": [],
   "source": []
  }
 ],
 "metadata": {
  "kernelspec": {
   "display_name": "bpe",
   "language": "python",
   "name": "python3"
  },
  "language_info": {
   "codemirror_mode": {
    "name": "ipython",
    "version": 3
   },
   "file_extension": ".py",
   "mimetype": "text/x-python",
   "name": "python",
   "nbconvert_exporter": "python",
   "pygments_lexer": "ipython3",
   "version": "3.11.3"
  },
  "orig_nbformat": 4
 },
 "nbformat": 4,
 "nbformat_minor": 2
}
