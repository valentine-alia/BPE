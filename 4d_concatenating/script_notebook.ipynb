{
 "cells": [
  {
   "cell_type": "code",
   "execution_count": 1,
   "metadata": {},
   "outputs": [
    {
     "name": "stderr",
     "output_type": "stream",
     "text": [
      "c:\\Users\\walki\\.conda\\envs\\bpe\\Lib\\site-packages\\cma\\evolution_strategy.py:3823: RuntimeWarning: invalid value encountered in scalar subtract\n",
      "  current_fitness_range = max(es.fit.fit) - min(es.fit.fit)\n",
      "c:\\Users\\walki\\.conda\\envs\\bpe\\Lib\\site-packages\\cma\\evolution_strategy.py:3829: RuntimeWarning: invalid value encountered in scalar subtract\n",
      "  current_fitness_range < opts['tolfunrel'] * (es.fit.median0 - es.fit.median_min),\n",
      "c:\\Users\\walki\\.conda\\envs\\bpe\\Lib\\site-packages\\cma\\evolution_strategy.py:3829: RuntimeWarning: invalid value encountered in scalar multiply\n",
      "  current_fitness_range < opts['tolfunrel'] * (es.fit.median0 - es.fit.median_min),\n"
     ]
    },
    {
     "name": "stdout",
     "output_type": "stream",
     "text": [
      "Inference terminated: reached maximum number of function evaluations options.max_fun_evals.\n",
      "Estimated ELBO: -205157.681 +/-8349.784.\n",
      "Caution: Returned variational solution may have not converged.\n"
     ]
    },
    {
     "ename": "",
     "evalue": "",
     "output_type": "error",
     "traceback": [
      "\u001b[1;31mCannot execute code, session has been disposed. Please try restarting the Kernel."
     ]
    },
    {
     "ename": "",
     "evalue": "",
     "output_type": "error",
     "traceback": [
      "\u001b[1;31mThe Kernel crashed while executing code in the the current cell or a previous cell. Please review the code in the cell(s) to identify a possible cause of the failure. Click <a href='https://aka.ms/vscodeJupyterKernelCrash'>here</a> for more info. View Jupyter <a href='command:jupyter.viewOutput'>log</a> for further details."
     ]
    }
   ],
   "source": [
    "import numpy as np\n",
    "from pyvbmc import VBMC \n",
    "from pyvbmc.priors import SplineTrapezoidal\n",
    "from scipy.integrate import solve_ivp\n",
    "import sympy as sym\n",
    "from pyvbmc.acquisition_functions import AcqFcnLog, AcqFcnNoisy, AcqFcnVIQR, AcqFcnIMIQR, AcqFcnVanilla\n",
    "\n",
    "# variables setup\n",
    "m1,m2,m3,k1,k2,k3,k4,time = sym.symbols('m_1,m_2,m_3,k_1,k_2,k_3,k_4,t')\n",
    "x1 = sym.Function(r'\\x_1')(time)\n",
    "x2 = sym.Function(r'\\x_2')(time)\n",
    "x3 = sym.Function(r'\\x_3')(time)\n",
    "x1d = x1.diff(time)\n",
    "x2d = x2.diff(time)\n",
    "x3d = x3.diff(time)\n",
    "x1dd = x1.diff(time,2)\n",
    "x2dd = x2.diff(time,2)\n",
    "x3dd = x3.diff(time,2)\n",
    "\n",
    "# Lagrangian Setup\n",
    "T = 0.5 * (k1 * x1**2 + k2 * (x1 - x2)**2 + k3 * (x2 - x3)**2 + k4 * x3**2)\n",
    "V =  0.5 * (m1* x1d **2 + m2 * x2d**2 + m3 * x3d **2)\n",
    "L = T - V\n",
    "\n",
    "# Get EOMs from Euler-Lagrange Equation:\n",
    "left = L.diff(x1)\n",
    "right = L.diff(x1d).diff(time)\n",
    "x1dd = sym.solve(sym.Eq(left,right),x1dd)\n",
    "\n",
    "left1 = L.diff(x2)\n",
    "right1 = L.diff(x2d).diff(time)\n",
    "x2dd = sym.solve(sym.Eq(left1,right1),x2dd)\n",
    "\n",
    "left2 = L.diff(x3)\n",
    "right2 = L.diff(x3d).diff(time)\n",
    "x3dd = sym.solve(sym.Eq(left2,right2),x3dd)\n",
    "\n",
    "x1dd_f = sym.lambdify([m1,m2,m3,k1,k2,k3,k4,x1,x2,x3],x1dd,'numpy')\n",
    "x2dd_f = sym.lambdify([m1,m2,m3,k1,k2,k3,k4,x1,x2,x3],x2dd,'numpy')\n",
    "x3dd_f = sym.lambdify([m1,m2,m3,k1,k2,k3,k4,x1,x2,x3],x3dd,'numpy')\n",
    "\n",
    "# EOMs\n",
    "def derivs(t,curr_vals,m1,m2,m3,k1,k2,k3,k4):\n",
    "\n",
    "    x1,x1d,x2,x2d,x3,x3d = curr_vals\n",
    "\n",
    "    return x1d, x1dd_f(m1,m2,m3,k1,k2,k3,k4,x1,x2,x3)[0], x2d, x2dd_f(m1,m2,m3,k1,k2,k3,k4,x1,x2,x3)[0], x3d, x3dd_f(m1,m2,m3,k1,k2,k3,k4,x1,x2,x3)[0]\n",
    "\n",
    "# parameters and initial conditions\n",
    "initial1 = [0,1,0,0,0,0]\n",
    "initial2 = [1,0,0,-0.2,3.5,0]\n",
    "initial3 = [0,1,1,-0.5,0,-0.2]\n",
    "initial4 = [3,3,1,-0.5,-1,-0.5]\n",
    "initial_conditions = [initial1,initial2,initial3,initial4]\n",
    "noise_sigma = 0.03\n",
    "sigma = noise_sigma\n",
    "tmax = 10\n",
    "dt = 0.05\n",
    "t = np.arange(0,tmax,dt)\n",
    "m1 = 1.\n",
    "m2 = 1.\n",
    "m3 = 1.\n",
    "\n",
    "def log_likelihood(theta):\n",
    "    k1,k2,k3,k4 = theta\n",
    "    sols = []\n",
    "    for initial_condition in initial_conditions:\n",
    "        sol = solve_ivp(derivs,(0,tmax),initial_condition,t_eval = t, args = (m1,m2,m3,k1,k2,k3,k4), method = \"LSODA\").y\n",
    "        sols.append(np.array([sol[i] for i in [0,2,4]]))\n",
    "    big_sol = np.concatenate(sols, axis = 1)\n",
    "    sliced_sol = big_sol[:,0::4]\n",
    "    return np.sum(np.log(1/(sigma* (2*np.pi)**0.5))-(0.5/sigma**2) * (y_true - sliced_sol)**2)\n",
    "\n",
    "D = 4\n",
    "LB = np.full((1, D), 0.0)\n",
    "UB = np.full((1, D), 50.0)\n",
    "PLB = np.full((1, D), 0.1)\n",
    "PUB = np.full((1, D), 10.0)\n",
    "x0 = 1.2 * np.ones((1, D))\n",
    "\n",
    "prior = SplineTrapezoidal(LB, PLB, PUB, UB)\n",
    "\n",
    "options = {\n",
    "    \"display\": \"off\",\n",
    "    \"max_fun_evals\": 500,\n",
    "    \"search_acq_fcn\": []\n",
    "}\n",
    "\n",
    "seeds = np.arange(10)\n",
    "acquisition_functions = [AcqFcnLog(), AcqFcnNoisy(), AcqFcnVIQR(), AcqFcnIMIQR(), AcqFcnVanilla()]\n",
    "for i, acq in enumerate(acquisition_functions):\n",
    "    options[\"search_acq_fcn\"] = [acq]\n",
    "    k1 = 1.\n",
    "    k2 = 1.\n",
    "    k3 = 1.\n",
    "    k4 = 1.\n",
    "    for j in range(1,4):\n",
    "        sols = []\n",
    "        for initial_condition in initial_conditions:\n",
    "            sol = solve_ivp(derivs,(0,tmax),initial_condition,t_eval = t, args = (m1,m2,m3,k1,k2,k3,k4), method = \"LSODA\").y\n",
    "            sols.append(np.array([sol[i] for i in [0,2,4]]))\n",
    "        big_t = np.arange(0,4*tmax,dt)\n",
    "        big_sol = np.concatenate(sols, axis = 1)\n",
    "        y_true = big_sol[:,0::4]\n",
    "\n",
    "        for seed in seeds:\n",
    "            np.random.seed(seed)\n",
    "            x0 = np.random.uniform(PLB,PUB)\n",
    "            np.random.seed(seed) \n",
    "            vbmc = VBMC(log_likelihood, x0, LB, UB, PLB, PUB, prior = prior, options = options)\n",
    "            np.random.seed(seed)\n",
    "            vp, results = vbmc.optimize();\n",
    "            vp.save(\"vp\" + str(i) + \"_\" +  str(j) + \"_\" + str(seed) + \".pkl\", overwrite=True)\n",
    "        k1 += 1.\n",
    "        k2 += 1.\n",
    "        k3 += 1.\n",
    "        k4 += 1."
   ]
  },
  {
   "cell_type": "code",
   "execution_count": 1,
   "metadata": {},
   "outputs": [
    {
     "ename": "",
     "evalue": "",
     "output_type": "error",
     "traceback": [
      "\u001b[1;31mCannot execute code, session has been disposed. Please try restarting the Kernel."
     ]
    },
    {
     "ename": "",
     "evalue": "",
     "output_type": "error",
     "traceback": [
      "\u001b[1;31mThe Kernel crashed while executing code in the the current cell or a previous cell. Please review the code in the cell(s) to identify a possible cause of the failure. Click <a href='https://aka.ms/vscodeJupyterKernelCrash'>here</a> for more info. View Jupyter <a href='command:jupyter.viewOutput'>log</a> for further details."
     ]
    }
   ],
   "source": [
    "from pyvbmc import VariationalPosterior\n",
    "vp = VariationalPosterior.load(\"vp0_1_0.pkl\")\n",
    "vp.plot();"
   ]
  },
  {
   "cell_type": "code",
   "execution_count": 6,
   "metadata": {},
   "outputs": [
    {
     "data": {
      "text/plain": [
       "array([[1.05492163, 3.00447156, 0.86314697, 0.71046527]])"
      ]
     },
     "execution_count": 6,
     "metadata": {},
     "output_type": "execute_result"
    }
   ],
   "source": [
    "vp.moments()"
   ]
  },
  {
   "cell_type": "code",
   "execution_count": null,
   "metadata": {},
   "outputs": [],
   "source": []
  }
 ],
 "metadata": {
  "kernelspec": {
   "display_name": "bpe",
   "language": "python",
   "name": "python3"
  },
  "language_info": {
   "codemirror_mode": {
    "name": "ipython",
    "version": 3
   },
   "file_extension": ".py",
   "mimetype": "text/x-python",
   "name": "python",
   "nbconvert_exporter": "python",
   "pygments_lexer": "ipython3",
   "version": "3.11.3"
  },
  "orig_nbformat": 4
 },
 "nbformat": 4,
 "nbformat_minor": 2
}
