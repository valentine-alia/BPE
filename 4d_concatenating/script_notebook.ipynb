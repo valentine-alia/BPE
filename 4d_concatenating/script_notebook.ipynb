{
 "cells": [
  {
   "cell_type": "code",
   "execution_count": 3,
   "metadata": {},
   "outputs": [
    {
     "data": {
      "text/plain": [
       "1.7976931348623157e+308"
      ]
     },
     "execution_count": 3,
     "metadata": {},
     "output_type": "execute_result"
    }
   ],
   "source": []
  },
  {
   "cell_type": "code",
   "execution_count": 2,
   "metadata": {},
   "outputs": [
    {
     "name": "stdout",
     "output_type": "stream",
     "text": [
      "made it\n"
     ]
    },
    {
     "ename": "KeyboardInterrupt",
     "evalue": "",
     "output_type": "error",
     "traceback": [
      "\u001b[1;31m---------------------------------------------------------------------------\u001b[0m",
      "\u001b[1;31mKeyboardInterrupt\u001b[0m                         Traceback (most recent call last)",
      "Cell \u001b[1;32mIn[2], line 113\u001b[0m\n\u001b[0;32m    111\u001b[0m     np\u001b[39m.\u001b[39mrandom\u001b[39m.\u001b[39mseed(seed)\n\u001b[0;32m    112\u001b[0m     \u001b[39mprint\u001b[39m(\u001b[39m'\u001b[39m\u001b[39mmade it\u001b[39m\u001b[39m'\u001b[39m)\n\u001b[1;32m--> 113\u001b[0m     vp, results \u001b[39m=\u001b[39m vbmc\u001b[39m.\u001b[39;49moptimize();\n\u001b[0;32m    114\u001b[0m     vp\u001b[39m.\u001b[39msave(\u001b[39m\"\u001b[39m\u001b[39mvp\u001b[39m\u001b[39m\"\u001b[39m \u001b[39m+\u001b[39m \u001b[39mstr\u001b[39m(i) \u001b[39m+\u001b[39m \u001b[39m\"\u001b[39m\u001b[39m_\u001b[39m\u001b[39m\"\u001b[39m \u001b[39m+\u001b[39m  \u001b[39mstr\u001b[39m(j) \u001b[39m+\u001b[39m \u001b[39m\"\u001b[39m\u001b[39m_\u001b[39m\u001b[39m\"\u001b[39m \u001b[39m+\u001b[39m \u001b[39mstr\u001b[39m(seed) \u001b[39m+\u001b[39m \u001b[39m\"\u001b[39m\u001b[39m.hdf5\u001b[39m\u001b[39m\"\u001b[39m, overwrite\u001b[39m=\u001b[39m\u001b[39mTrue\u001b[39;00m)\n\u001b[0;32m    115\u001b[0m k1 \u001b[39m+\u001b[39m\u001b[39m=\u001b[39m \u001b[39m1.\u001b[39m\n",
      "File \u001b[1;32mc:\\Users\\walki\\.conda\\envs\\bpe\\Lib\\site-packages\\pyvbmc\\vbmc\\vbmc.py:1168\u001b[0m, in \u001b[0;36mVBMC.optimize\u001b[1;34m(self)\u001b[0m\n\u001b[0;32m   1166\u001b[0m     N_slowopts \u001b[39m=\u001b[39m \u001b[39m1\u001b[39m\n\u001b[0;32m   1167\u001b[0m \u001b[39m# Run optimization of variational parameters\u001b[39;00m\n\u001b[1;32m-> 1168\u001b[0m \u001b[39mself\u001b[39m\u001b[39m.\u001b[39mvp, var_ss, pruned \u001b[39m=\u001b[39m optimize_vp(\n\u001b[0;32m   1169\u001b[0m     \u001b[39mself\u001b[39;49m\u001b[39m.\u001b[39;49moptions,\n\u001b[0;32m   1170\u001b[0m     \u001b[39mself\u001b[39;49m\u001b[39m.\u001b[39;49moptim_state,\n\u001b[0;32m   1171\u001b[0m     \u001b[39mself\u001b[39;49m\u001b[39m.\u001b[39;49mvp,\n\u001b[0;32m   1172\u001b[0m     \u001b[39mself\u001b[39;49m\u001b[39m.\u001b[39;49mgp,\n\u001b[0;32m   1173\u001b[0m     N_fastopts,\n\u001b[0;32m   1174\u001b[0m     N_slowopts,\n\u001b[0;32m   1175\u001b[0m     Knew,\n\u001b[0;32m   1176\u001b[0m )\n\u001b[0;32m   1178\u001b[0m \u001b[39mself\u001b[39m\u001b[39m.\u001b[39moptim_state[\u001b[39m\"\u001b[39m\u001b[39mvp_K\u001b[39m\u001b[39m\"\u001b[39m] \u001b[39m=\u001b[39m \u001b[39mself\u001b[39m\u001b[39m.\u001b[39mvp\u001b[39m.\u001b[39mK\n\u001b[0;32m   1179\u001b[0m \u001b[39m# Save current entropy\u001b[39;00m\n",
      "File \u001b[1;32mc:\\Users\\walki\\.conda\\envs\\bpe\\Lib\\site-packages\\pyvbmc\\vbmc\\variational_optimization.py:271\u001b[0m, in \u001b[0;36moptimize_vp\u001b[1;34m(options, optim_state, vp, gp, fast_opts_N, slow_opts_N, K)\u001b[0m\n\u001b[0;32m    268\u001b[0m master_decay \u001b[39m=\u001b[39m \u001b[39m200\u001b[39m\n\u001b[0;32m    269\u001b[0m max_iter \u001b[39m=\u001b[39m \u001b[39mmin\u001b[39m(\u001b[39m10000\u001b[39m, options[\u001b[39m\"\u001b[39m\u001b[39mmax_iter_stochastic\u001b[39m\u001b[39m\"\u001b[39m])\n\u001b[1;32m--> 271\u001b[0m theta_opt, _, theta_lst, f_val_lst, _ \u001b[39m=\u001b[39m minimize_adam(\n\u001b[0;32m    272\u001b[0m     vb_train_mc_fun,\n\u001b[0;32m    273\u001b[0m     theta_opt,\n\u001b[0;32m    274\u001b[0m     tol_fun\u001b[39m=\u001b[39;49moptions[\u001b[39m\"\u001b[39;49m\u001b[39mtol_fun_stochastic\u001b[39;49m\u001b[39m\"\u001b[39;49m],\n\u001b[0;32m    275\u001b[0m     max_iter\u001b[39m=\u001b[39;49mmax_iter,\n\u001b[0;32m    276\u001b[0m     master_min\u001b[39m=\u001b[39;49mmaster_min,\n\u001b[0;32m    277\u001b[0m     master_max\u001b[39m=\u001b[39;49mmaster_max,\n\u001b[0;32m    278\u001b[0m     master_decay\u001b[39m=\u001b[39;49mmaster_decay,\n\u001b[0;32m    279\u001b[0m )\n\u001b[0;32m    281\u001b[0m \u001b[39mif\u001b[39;00m options[\u001b[39m\"\u001b[39m\u001b[39melcbo_midpoint\u001b[39m\u001b[39m\"\u001b[39m]:\n\u001b[0;32m    282\u001b[0m     \u001b[39m# Recompute ELCBO at best midpoint with full variance\u001b[39;00m\n\u001b[0;32m    283\u001b[0m     \u001b[39m# and more precision.\u001b[39;00m\n\u001b[0;32m    284\u001b[0m     idx_mid \u001b[39m=\u001b[39m np\u001b[39m.\u001b[39margmin(f_val_lst)\n",
      "File \u001b[1;32mc:\\Users\\walki\\.conda\\envs\\bpe\\Lib\\site-packages\\pyvbmc\\vbmc\\minimize_adam.py:87\u001b[0m, in \u001b[0;36mminimize_adam\u001b[1;34m(f, x0, lb, ub, tol_fun, max_iter, master_min, master_max, master_decay, use_early_stopping)\u001b[0m\n\u001b[0;32m     84\u001b[0m \u001b[39mfor\u001b[39;00m i \u001b[39min\u001b[39;00m \u001b[39mrange\u001b[39m(\u001b[39m0\u001b[39m, max_iter):\n\u001b[0;32m     85\u001b[0m     is_minibatch_end \u001b[39m=\u001b[39m math\u001b[39m.\u001b[39mremainder(i \u001b[39m+\u001b[39m \u001b[39m1\u001b[39m, batch_size) \u001b[39m==\u001b[39m \u001b[39m0\u001b[39m\n\u001b[1;32m---> 87\u001b[0m     y_tab[i], grad \u001b[39m=\u001b[39m f(x)\n\u001b[0;32m     89\u001b[0m     m \u001b[39m=\u001b[39m beta_1 \u001b[39m*\u001b[39m m \u001b[39m+\u001b[39m (\u001b[39m1\u001b[39m \u001b[39m-\u001b[39m beta_1) \u001b[39m*\u001b[39m grad\n\u001b[0;32m     90\u001b[0m     v \u001b[39m=\u001b[39m beta_2 \u001b[39m*\u001b[39m v \u001b[39m+\u001b[39m (\u001b[39m1\u001b[39m \u001b[39m-\u001b[39m beta_2) \u001b[39m*\u001b[39m grad\u001b[39m*\u001b[39m\u001b[39m*\u001b[39m\u001b[39m2\u001b[39m\n",
      "File \u001b[1;32mc:\\Users\\walki\\.conda\\envs\\bpe\\Lib\\site-packages\\pyvbmc\\vbmc\\variational_optimization.py:239\u001b[0m, in \u001b[0;36moptimize_vp.<locals>.vb_train_mc_fun\u001b[1;34m(theta_)\u001b[0m\n\u001b[0;32m    238\u001b[0m \u001b[39mdef\u001b[39;00m \u001b[39mvb_train_mc_fun\u001b[39m(theta_):\n\u001b[1;32m--> 239\u001b[0m     res \u001b[39m=\u001b[39m _neg_elcbo(\n\u001b[0;32m    240\u001b[0m         theta_,\n\u001b[0;32m    241\u001b[0m         gp,\n\u001b[0;32m    242\u001b[0m         vp0,\n\u001b[0;32m    243\u001b[0m         elcbo_beta,\n\u001b[0;32m    244\u001b[0m         ns_ent_K,\n\u001b[0;32m    245\u001b[0m         compute_grad\u001b[39m=\u001b[39;49m\u001b[39mTrue\u001b[39;49;00m,\n\u001b[0;32m    246\u001b[0m         compute_var\u001b[39m=\u001b[39;49mcompute_var,\n\u001b[0;32m    247\u001b[0m         theta_bnd\u001b[39m=\u001b[39;49mtheta_bnd,\n\u001b[0;32m    248\u001b[0m     )\n\u001b[0;32m    249\u001b[0m     \u001b[39mreturn\u001b[39;00m res[\u001b[39m0\u001b[39m], res[\u001b[39m1\u001b[39m]\n",
      "File \u001b[1;32mc:\\Users\\walki\\.conda\\envs\\bpe\\Lib\\site-packages\\pyvbmc\\vbmc\\variational_optimization.py:1165\u001b[0m, in \u001b[0;36m_neg_elcbo\u001b[1;34m(theta, gp, vp, beta, Ns, compute_grad, compute_var, theta_bnd, _entropy_alpha, separate_K)\u001b[0m\n\u001b[0;32m   1162\u001b[0m \u001b[39m# Entropy term\u001b[39;00m\n\u001b[0;32m   1163\u001b[0m \u001b[39mif\u001b[39;00m Ns \u001b[39m>\u001b[39m \u001b[39m0\u001b[39m:\n\u001b[0;32m   1164\u001b[0m     \u001b[39m# Monte carlo approximation\u001b[39;00m\n\u001b[1;32m-> 1165\u001b[0m     H, dH \u001b[39m=\u001b[39m entmc_vbmc(vp, Ns, grad_flags, jacobian_flag)\n\u001b[0;32m   1166\u001b[0m \u001b[39melse\u001b[39;00m:\n\u001b[0;32m   1167\u001b[0m     \u001b[39m# Deterministic approximation via lower bound on the entropy\u001b[39;00m\n\u001b[0;32m   1168\u001b[0m     H, dH \u001b[39m=\u001b[39m entlb_vbmc(vp, grad_flags, jacobian_flag)\n",
      "File \u001b[1;32mc:\\Users\\walki\\.conda\\envs\\bpe\\Lib\\site-packages\\pyvbmc\\entropy\\entmc_vbmc.py:67\u001b[0m, in \u001b[0;36mentmc_vbmc\u001b[1;34m(vp, Ns, grad_flags, jacobian_flag)\u001b[0m\n\u001b[0;32m     62\u001b[0m epsilon \u001b[39m=\u001b[39m np\u001b[39m.\u001b[39mzeros([Ns, D])\n\u001b[0;32m     64\u001b[0m \u001b[39mfor\u001b[39;00m j \u001b[39min\u001b[39;00m \u001b[39mrange\u001b[39m(K):\n\u001b[0;32m     65\u001b[0m     \u001b[39m# Draw Monte Carlo samples from the j-th component\u001b[39;00m\n\u001b[0;32m     66\u001b[0m     \u001b[39m# Antithetic sampling\u001b[39;00m\n\u001b[1;32m---> 67\u001b[0m     epsilon[: Ns \u001b[39m/\u001b[39m\u001b[39m/\u001b[39m \u001b[39m2\u001b[39m, :] \u001b[39m=\u001b[39m np\u001b[39m.\u001b[39;49mrandom\u001b[39m.\u001b[39;49mrandn(Ns \u001b[39m/\u001b[39;49m\u001b[39m/\u001b[39;49m \u001b[39m2\u001b[39;49m, D)\n\u001b[0;32m     68\u001b[0m     epsilon[Ns \u001b[39m/\u001b[39m\u001b[39m/\u001b[39m \u001b[39m2\u001b[39m :, :] \u001b[39m=\u001b[39m \u001b[39m-\u001b[39mepsilon[: Ns \u001b[39m/\u001b[39m\u001b[39m/\u001b[39m \u001b[39m2\u001b[39m, :]\n\u001b[0;32m     70\u001b[0m     Xs \u001b[39m=\u001b[39m epsilon \u001b[39m*\u001b[39m lambd \u001b[39m*\u001b[39m sigma[j] \u001b[39m+\u001b[39m mu[:, j]  \u001b[39m# [Ns, D]\u001b[39;00m\n",
      "\u001b[1;31mKeyboardInterrupt\u001b[0m: "
     ]
    }
   ],
   "source": [
    "import numpy as np\n",
    "from pyvbmc import VBMC \n",
    "from pyvbmc.priors import SplineTrapezoidal\n",
    "from scipy.integrate import solve_ivp\n",
    "import sympy as sym\n",
    "from pyvbmc.acquisition_functions import AcqFcnLog, AcqFcnNoisy, AcqFcnVIQR, AcqFcnIMIQR, AcqFcnVanilla\n",
    "\n",
    "# variables setup\n",
    "m1,m2,m3,k1,k2,k3,k4,time = sym.symbols('m_1,m_2,m_3,k_1,k_2,k_3,k_4,t')\n",
    "x1 = sym.Function(r'\\x_1')(time)\n",
    "x2 = sym.Function(r'\\x_2')(time)\n",
    "x3 = sym.Function(r'\\x_3')(time)\n",
    "x1d = x1.diff(time)\n",
    "x2d = x2.diff(time)\n",
    "x3d = x3.diff(time)\n",
    "x1dd = x1.diff(time,2)\n",
    "x2dd = x2.diff(time,2)\n",
    "x3dd = x3.diff(time,2)\n",
    "\n",
    "# Lagrangian Setup\n",
    "T = 0.5 * (k1 * x1**2 + k2 * (x1 - x2)**2 + k3 * (x2 - x3)**2 + k4 * x3**2)\n",
    "V =  0.5 * (m1* x1d **2 + m2 * x2d**2 + m3 * x3d **2)\n",
    "L = T - V\n",
    "\n",
    "# Get EOMs from Euler-Lagrange Equation:\n",
    "left = L.diff(x1)\n",
    "right = L.diff(x1d).diff(time)\n",
    "x1dd = sym.solve(sym.Eq(left,right),x1dd)\n",
    "\n",
    "left1 = L.diff(x2)\n",
    "right1 = L.diff(x2d).diff(time)\n",
    "x2dd = sym.solve(sym.Eq(left1,right1),x2dd)\n",
    "\n",
    "left2 = L.diff(x3)\n",
    "right2 = L.diff(x3d).diff(time)\n",
    "x3dd = sym.solve(sym.Eq(left2,right2),x3dd)\n",
    "\n",
    "x1dd_f = sym.lambdify([m1,m2,m3,k1,k2,k3,k4,x1,x2,x3],x1dd,'numpy')\n",
    "x2dd_f = sym.lambdify([m1,m2,m3,k1,k2,k3,k4,x1,x2,x3],x2dd,'numpy')\n",
    "x3dd_f = sym.lambdify([m1,m2,m3,k1,k2,k3,k4,x1,x2,x3],x3dd,'numpy')\n",
    "\n",
    "# EOMs\n",
    "def derivs(t,curr_vals,m1,m2,m3,k1,k2,k3,k4):\n",
    "\n",
    "    x1,x1d,x2,x2d,x3,x3d = curr_vals\n",
    "\n",
    "    return x1d, x1dd_f(m1,m2,m3,k1,k2,k3,k4,x1,x2,x3)[0], x2d, x2dd_f(m1,m2,m3,k1,k2,k3,k4,x1,x2,x3)[0], x3d, x3dd_f(m1,m2,m3,k1,k2,k3,k4,x1,x2,x3)[0]\n",
    "\n",
    "# parameters and initial conditions\n",
    "initial1 = [0,1,0,0,0,0]\n",
    "initial2 = [1,0,0,-0.2,3.5,0]\n",
    "initial3 = [0,1,1,-0.5,0,-0.2]\n",
    "initial4 = [3,3,1,-0.5,-1,-0.5]\n",
    "initial_conditions = [initial1,initial2,initial3,initial4]\n",
    "noise_sigma = 0.03\n",
    "sigma = noise_sigma\n",
    "tmax = 10\n",
    "dt = 0.05\n",
    "t = np.arange(0,tmax,dt)\n",
    "m1 = 1.\n",
    "m2 = 1.\n",
    "m3 = 1.\n",
    "\n",
    "def log_likelihood(theta):\n",
    "    k1,k2,k3,k4 = theta\n",
    "    sols = []\n",
    "    for initial_condition in initial_conditions:\n",
    "        sol = solve_ivp(derivs,(0,tmax),initial_condition,t_eval = t, args = (m1,m2,m3,k1,k2,k3,k4), method = \"LSODA\").y\n",
    "        sols.append(np.array([sol[i] for i in [0,2,4]]))\n",
    "    big_sol = np.concatenate(sols, axis = 1)\n",
    "    sliced_sol = big_sol[:,0::4]\n",
    "    return np.sum(np.log(1/(sigma* (2*np.pi)**0.5))-(0.5/sigma**2) * (y_true - sliced_sol)**2)\n",
    "\n",
    "D = 4\n",
    "LB = np.full((1, D), 0.0)\n",
    "UB = np.full((1, D), 50.0)\n",
    "PLB = np.full((1, D), 0.1)\n",
    "PUB = np.full((1, D), 10.0)\n",
    "x0 = 1.2 * np.ones((1, D))\n",
    "\n",
    "prior = SplineTrapezoidal(LB, PLB, PUB, UB)\n",
    "\n",
    "options = {\n",
    "    \"display\": \"off\",\n",
    "    \"max_fun_evals\": 500,\n",
    "    \"search_acq_fcn\": []\n",
    "}\n",
    "\n",
    "seeds = np.arange(10)\n",
    "acquisition_functions = [AcqFcnLog(), AcqFcnNoisy(), AcqFcnVIQR(), AcqFcnVanilla(), AcqFcnIMIQR()]\n",
    "for i, acq in enumerate(acquisition_functions):\n",
    "    options[\"search_acq_fcn\"] = [acq]\n",
    "    k1 = 1.\n",
    "    k2 = 1.\n",
    "    k3 = 1.\n",
    "    k4 = 1.\n",
    "    for j in range(1,4):\n",
    "        sols = []\n",
    "        for initial_condition in initial_conditions:\n",
    "            sol = solve_ivp(derivs,(0,tmax),initial_condition,t_eval = t, args = (m1,m2,m3,k1,k2,k3,k4), method = \"LSODA\").y\n",
    "            sols.append(np.array([sol[i] for i in [0,2,4]]))\n",
    "        big_t = np.arange(0,4*tmax,dt)\n",
    "        big_sol = np.concatenate(sols, axis = 1)\n",
    "        y_true = big_sol[:,0::4]\n",
    "\n",
    "        for seed in seeds:\n",
    "            np.random.seed(seed)\n",
    "            x0 = np.random.uniform(PLB,PUB)\n",
    "            np.random.seed(seed) \n",
    "            vbmc = VBMC(log_likelihood, x0, LB, UB, PLB, PUB, prior = prior, options = options)\n",
    "            np.random.seed(seed)\n",
    "            print('made it')\n",
    "            vp, results = vbmc.optimize();\n",
    "            vp.save(\"vp\" + str(i) + \"_\" +  str(j) + \"_\" + str(seed) + \".hdf5\", overwrite=True)\n",
    "        k1 += 1.\n",
    "        k2 += 1.\n",
    "        k3 += 1.\n",
    "        k4 += 1."
   ]
  },
  {
   "cell_type": "code",
   "execution_count": 1,
   "metadata": {},
   "outputs": [
    {
     "ename": "",
     "evalue": "",
     "output_type": "error",
     "traceback": [
      "\u001b[1;31mCannot execute code, session has been disposed. Please try restarting the Kernel."
     ]
    },
    {
     "ename": "",
     "evalue": "",
     "output_type": "error",
     "traceback": [
      "\u001b[1;31mThe Kernel crashed while executing code in the the current cell or a previous cell. Please review the code in the cell(s) to identify a possible cause of the failure. Click <a href='https://aka.ms/vscodeJupyterKernelCrash'>here</a> for more info. View Jupyter <a href='command:jupyter.viewOutput'>log</a> for further details."
     ]
    }
   ],
   "source": [
    "from pyvbmc import VariationalPosterior\n",
    "vp = VariationalPosterior.load(\"vp0_1_0.pkl\")\n",
    "vp.plot();"
   ]
  },
  {
   "cell_type": "code",
   "execution_count": 6,
   "metadata": {},
   "outputs": [
    {
     "data": {
      "text/plain": [
       "array([[1.05492163, 3.00447156, 0.86314697, 0.71046527]])"
      ]
     },
     "execution_count": 6,
     "metadata": {},
     "output_type": "execute_result"
    }
   ],
   "source": [
    "vp.moments()"
   ]
  },
  {
   "cell_type": "code",
   "execution_count": null,
   "metadata": {},
   "outputs": [],
   "source": []
  }
 ],
 "metadata": {
  "kernelspec": {
   "display_name": "bpe",
   "language": "python",
   "name": "python3"
  },
  "language_info": {
   "codemirror_mode": {
    "name": "ipython",
    "version": 3
   },
   "file_extension": ".py",
   "mimetype": "text/x-python",
   "name": "python",
   "nbconvert_exporter": "python",
   "pygments_lexer": "ipython3",
   "version": "3.11.3"
  },
  "orig_nbformat": 4
 },
 "nbformat": 4,
 "nbformat_minor": 2
}
