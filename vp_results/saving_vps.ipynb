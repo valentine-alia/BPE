{
 "cells": [
  {
   "attachments": {},
   "cell_type": "markdown",
   "metadata": {},
   "source": [
    "# Setup"
   ]
  },
  {
   "cell_type": "code",
   "execution_count": 8,
   "metadata": {},
   "outputs": [
    {
     "name": "stdout",
     "output_type": "stream",
     "text": [
      "LB: [[-0.1  0. ]] PLB: [[0. 1.]] PUB: [[0.5 5. ]] UB: [[0.6 6. ]] x0_rand: [[0.48351492 3.188929  ]]\n"
     ]
    }
   ],
   "source": [
    "import pandas as pd  # Data handling\n",
    "from scipy.integrate import odeint # numerical integration\n",
    "import numpy as np\n",
    "from pyvbmc import VBMC # VMBC object\n",
    "from pyvbmc import VariationalPosterior\n",
    "from pyvbmc.priors import SplineTrapezoidal\n",
    "from scipy.optimize import minimize\n",
    "import scipy.stats as scs\n",
    "\n",
    "# Differential equation to be solved\n",
    "def diffyqs(X, t, a,b):\n",
    "    x, vx = X[0], X[1]\n",
    "    dx = vx\n",
    "    dv = -x - np.sign(x) * a * np.abs(x)**b\n",
    "    return [dx, dv]\n",
    "\n",
    "# Initial Condition and time array for solution\n",
    "initial_condition = [0.0, 3.5]\n",
    "t = np.arange(0,10,0.05)\n",
    "\n",
    "# Range of values that parameters can take on\n",
    "a_min = 0.0\n",
    "a_max = 0.5\n",
    "b_min = 1.0\n",
    "b_max = 5.0\n",
    "\n",
    "# gaussian-ish log_likelihood\n",
    "def log_likelihood(theta):\n",
    "    a,b = theta\n",
    "    sol = odeint(diffyqs, initial_condition, t, args=(a,b))\n",
    "    return -np.sum((sol[:,1] - x_true)**2) \n",
    "\n",
    "\n",
    "# Number of parameters (dimension)\n",
    "D = 2\n",
    "\n",
    "# Bounds for VBMC object (LB and UB expanded a bit beyond what the actual true values could be)\n",
    "LB = np.full((1, D), a_min)\n",
    "LB[0][0] = a_min - 0.1\n",
    "LB[0][1] = b_min - 1\n",
    "UB = np.full((1, D), a_max)\n",
    "UB[0][0] = a_max + 0.1\n",
    "UB[0][1] = b_max + 1\n",
    "PLB = np.copy(LB)\n",
    "PLB[0][0] = a_min\n",
    "PLB[0][1] = b_min\n",
    "PUB = np.copy(UB)\n",
    "PUB[0][0] = a_max \n",
    "PUB[0][1] = b_max\n",
    "\n",
    "\n",
    "# pick a random starting point and do initial minimizatio on it\n",
    "np.random.seed(4) # leave this\n",
    "x0_rand = np.random.uniform(PLB, PUB)\n",
    "\n",
    "#set up prior\n",
    "prior = SplineTrapezoidal(LB, PLB, PUB, UB)\n",
    "options = {\n",
    "    \"display\": \"off\"\n",
    "}\n",
    "\n",
    "print(\"LB:\",LB,\"PLB:\",PLB,\"PUB:\",PUB,\"UB:\",UB,'x0_rand:',x0_rand)"
   ]
  },
  {
   "attachments": {},
   "cell_type": "markdown",
   "metadata": {},
   "source": [
    "# Running and saving"
   ]
  },
  {
   "cell_type": "code",
   "execution_count": 60,
   "metadata": {},
   "outputs": [
    {
     "name": "stdout",
     "output_type": "stream",
     "text": [
      "Reshaping x0 to row vector.\n",
      "vbmc:InitialPointsOutsidePB. The starting points X0 are not inside the provided plausible bounds PLB and PUB. Expanding the plausible bounds...\n"
     ]
    },
    {
     "name": "stderr",
     "output_type": "stream",
     "text": [
      "C:\\Users\\walki\\AppData\\Local\\Temp\\ipykernel_19748\\3876274093.py:18: DeprecationWarning: Use of `minimize` with `x0.ndim != 1` is deprecated. Currently, singleton dimensions will be removed from `x0`, but an error will be raised in SciPy 1.11.0.\n",
      "  x0 = minimize(\n"
     ]
    },
    {
     "name": "stdout",
     "output_type": "stream",
     "text": [
      "Inference terminated: variational solution stable for options.tol_stable_count fcn evaluations.\n",
      "Estimated ELBO: -4.649 +/-0.006.\n",
      "Reshaping x0 to row vector.\n",
      "vbmc:InitialPointsOutsidePB. The starting points X0 are not inside the provided plausible bounds PLB and PUB. Expanding the plausible bounds...\n",
      "Inference terminated: variational solution stable for options.tol_stable_count fcn evaluations.\n",
      "Estimated ELBO: -4.649 +/-0.006.\n",
      "Reshaping x0 to row vector.\n",
      "vbmc:InitialPointsOutsidePB. The starting points X0 are not inside the provided plausible bounds PLB and PUB. Expanding the plausible bounds...\n",
      "Inference terminated: variational solution stable for options.tol_stable_count fcn evaluations.\n",
      "Estimated ELBO: -4.649 +/-0.006.\n",
      "Reshaping x0 to row vector.\n",
      "vbmc:InitialPointsOutsidePB. The starting points X0 are not inside the provided plausible bounds PLB and PUB. Expanding the plausible bounds...\n",
      "Inference terminated: reached maximum number of function evaluations options.max_fun_evals.\n",
      "Estimated ELBO: -5.635 +/-0.000.\n",
      "Caution: Returned variational solution may have not converged.\n",
      "Reshaping x0 to row vector.\n",
      "vbmc:InitialPointsOutsidePB. The starting points X0 are not inside the provided plausible bounds PLB and PUB. Expanding the plausible bounds...\n",
      "Inference terminated: variational solution stable for options.tol_stable_count fcn evaluations.\n",
      "Estimated ELBO: -6.319 +/-0.000.\n",
      "Reshaping x0 to row vector.\n",
      "vbmc:InitialPointsOutsidePB. The starting points X0 are not inside the provided plausible bounds PLB and PUB. Expanding the plausible bounds...\n"
     ]
    },
    {
     "name": "stderr",
     "output_type": "stream",
     "text": [
      "c:\\Users\\walki\\.conda\\envs\\bpe\\Lib\\site-packages\\scipy\\integrate\\_odepack_py.py:248: ODEintWarning: Excess work done on this call (perhaps wrong Dfun type). Run with full_output = 1 to get quantitative information.\n",
      "  warnings.warn(warning_msg, ODEintWarning)\n"
     ]
    },
    {
     "ename": "LinAlgError",
     "evalue": "Singular matrix for L Cholesky decomposition",
     "output_type": "error",
     "traceback": [
      "\u001b[1;31m---------------------------------------------------------------------------\u001b[0m",
      "\u001b[1;31mLinAlgError\u001b[0m                               Traceback (most recent call last)",
      "Cell \u001b[1;32mIn[60], line 31\u001b[0m\n\u001b[0;32m     29\u001b[0m vbmc \u001b[39m=\u001b[39m VBMC(log_likelihood, x0, LB, UB, PLB, PUB, prior \u001b[39m=\u001b[39m prior, options \u001b[39m=\u001b[39m options)\n\u001b[0;32m     30\u001b[0m np\u001b[39m.\u001b[39mrandom\u001b[39m.\u001b[39mseed(\u001b[39m1\u001b[39m) \u001b[39m# and this\u001b[39;00m\n\u001b[1;32m---> 31\u001b[0m vp, results \u001b[39m=\u001b[39m vbmc\u001b[39m.\u001b[39;49moptimize();\n\u001b[0;32m     32\u001b[0m vbmc\u001b[39m.\u001b[39msave(\u001b[39m\"\u001b[39m\u001b[39mvbmc\u001b[39m\u001b[39m\"\u001b[39m \u001b[39m+\u001b[39m \u001b[39mstr\u001b[39m(vbmc_count) \u001b[39m+\u001b[39m \u001b[39m\"\u001b[39m\u001b[39m.pkl\u001b[39m\u001b[39m\"\u001b[39m, overwrite\u001b[39m=\u001b[39m\u001b[39mTrue\u001b[39;00m)\n\u001b[0;32m     33\u001b[0m vbmc\u001b[39m.\u001b[39mvp\u001b[39m.\u001b[39msave(\u001b[39m\"\u001b[39m\u001b[39mvp\u001b[39m\u001b[39m\"\u001b[39m \u001b[39m+\u001b[39m \u001b[39mstr\u001b[39m(vbmc_count) \u001b[39m+\u001b[39m \u001b[39m\"\u001b[39m\u001b[39m.pkl\u001b[39m\u001b[39m\"\u001b[39m, overwrite\u001b[39m=\u001b[39m\u001b[39mTrue\u001b[39;00m)\n",
      "File \u001b[1;32mc:\\Users\\walki\\.conda\\envs\\bpe\\Lib\\site-packages\\pyvbmc\\vbmc\\vbmc.py:1117\u001b[0m, in \u001b[0;36mVBMC.optimize\u001b[1;34m(self)\u001b[0m\n\u001b[0;32m   1113\u001b[0m \u001b[39m## Train gp\u001b[39;00m\n\u001b[0;32m   1115\u001b[0m timer\u001b[39m.\u001b[39mstart_timer(\u001b[39m\"\u001b[39m\u001b[39mgp_train\u001b[39m\u001b[39m\"\u001b[39m)\n\u001b[1;32m-> 1117\u001b[0m \u001b[39mself\u001b[39m\u001b[39m.\u001b[39mgp, Ns_gp, sn2_hpd, \u001b[39mself\u001b[39m\u001b[39m.\u001b[39mhyp_dict \u001b[39m=\u001b[39m train_gp(\n\u001b[0;32m   1118\u001b[0m     \u001b[39mself\u001b[39;49m\u001b[39m.\u001b[39;49mhyp_dict,\n\u001b[0;32m   1119\u001b[0m     \u001b[39mself\u001b[39;49m\u001b[39m.\u001b[39;49moptim_state,\n\u001b[0;32m   1120\u001b[0m     \u001b[39mself\u001b[39;49m\u001b[39m.\u001b[39;49mfunction_logger,\n\u001b[0;32m   1121\u001b[0m     \u001b[39mself\u001b[39;49m\u001b[39m.\u001b[39;49miteration_history,\n\u001b[0;32m   1122\u001b[0m     \u001b[39mself\u001b[39;49m\u001b[39m.\u001b[39;49moptions,\n\u001b[0;32m   1123\u001b[0m     \u001b[39mself\u001b[39;49m\u001b[39m.\u001b[39;49moptim_state[\u001b[39m\"\u001b[39;49m\u001b[39mplb_tran\u001b[39;49m\u001b[39m\"\u001b[39;49m],\n\u001b[0;32m   1124\u001b[0m     \u001b[39mself\u001b[39;49m\u001b[39m.\u001b[39;49moptim_state[\u001b[39m\"\u001b[39;49m\u001b[39mpub_tran\u001b[39;49m\u001b[39m\"\u001b[39;49m],\n\u001b[0;32m   1125\u001b[0m )\n\u001b[0;32m   1126\u001b[0m \u001b[39mself\u001b[39m\u001b[39m.\u001b[39moptim_state[\u001b[39m\"\u001b[39m\u001b[39msn2_hpd\u001b[39m\u001b[39m\"\u001b[39m] \u001b[39m=\u001b[39m sn2_hpd\n\u001b[0;32m   1128\u001b[0m timer\u001b[39m.\u001b[39mstop_timer(\u001b[39m\"\u001b[39m\u001b[39mgp_train\u001b[39m\u001b[39m\"\u001b[39m)\n",
      "File \u001b[1;32mc:\\Users\\walki\\.conda\\envs\\bpe\\Lib\\site-packages\\pyvbmc\\vbmc\\gaussian_process_train.py:160\u001b[0m, in \u001b[0;36mtrain_gp\u001b[1;34m(hyp_dict, optim_state, function_logger, iteration_history, options, plb_tran, pub_tran)\u001b[0m\n\u001b[0;32m    157\u001b[0m     hyp0 \u001b[39m=\u001b[39m hyp_dict[\u001b[39m\"\u001b[39m\u001b[39mhyp_vp\u001b[39m\u001b[39m\"\u001b[39m]\n\u001b[0;32m    159\u001b[0m \u001b[39m# print(hyp0.shape)\u001b[39;00m\n\u001b[1;32m--> 160\u001b[0m hyp_dict[\u001b[39m\"\u001b[39m\u001b[39mhyp\u001b[39m\u001b[39m\"\u001b[39m], _, res \u001b[39m=\u001b[39m gp\u001b[39m.\u001b[39;49mfit(\n\u001b[0;32m    161\u001b[0m     x_train, y_train, s2_train, hyp0\u001b[39m=\u001b[39;49mhyp0, options\u001b[39m=\u001b[39;49mgp_train\n\u001b[0;32m    162\u001b[0m )\n\u001b[0;32m    164\u001b[0m \u001b[39mif\u001b[39;00m res \u001b[39mis\u001b[39;00m \u001b[39mnot\u001b[39;00m \u001b[39mNone\u001b[39;00m:\n\u001b[0;32m    165\u001b[0m     \u001b[39m# Pre-thinning GP hyperparameters\u001b[39;00m\n\u001b[0;32m    166\u001b[0m     hyp_dict[\u001b[39m\"\u001b[39m\u001b[39mfull\u001b[39m\u001b[39m\"\u001b[39m] \u001b[39m=\u001b[39m res[\u001b[39m\"\u001b[39m\u001b[39msamples\u001b[39m\u001b[39m\"\u001b[39m]\n",
      "File \u001b[1;32mc:\\Users\\walki\\.conda\\envs\\bpe\\Lib\\site-packages\\gpyreg\\gaussian_process.py:1094\u001b[0m, in \u001b[0;36mGP.fit\u001b[1;34m(self, X, y, s2, hyp0, options)\u001b[0m\n\u001b[0;32m   1091\u001b[0m t1_s \u001b[39m=\u001b[39m time\u001b[39m.\u001b[39mtime()\n\u001b[0;32m   1093\u001b[0m \u001b[39mif\u001b[39;00m init_N \u001b[39m>\u001b[39m \u001b[39m0\u001b[39m:\n\u001b[1;32m-> 1094\u001b[0m     X0, y0 \u001b[39m=\u001b[39m f_min_fill(\n\u001b[0;32m   1095\u001b[0m         objective_f_1,\n\u001b[0;32m   1096\u001b[0m         hyp0,\n\u001b[0;32m   1097\u001b[0m         LB,\n\u001b[0;32m   1098\u001b[0m         UB,\n\u001b[0;32m   1099\u001b[0m         PLB,\n\u001b[0;32m   1100\u001b[0m         PUB,\n\u001b[0;32m   1101\u001b[0m         \u001b[39mself\u001b[39;49m\u001b[39m.\u001b[39;49mhyper_priors,\n\u001b[0;32m   1102\u001b[0m         init_N,\n\u001b[0;32m   1103\u001b[0m         init_method,\n\u001b[0;32m   1104\u001b[0m     )\n\u001b[0;32m   1105\u001b[0m     \u001b[39m# Make sure we have at least one hyperparameter to use later.\u001b[39;00m\n\u001b[0;32m   1106\u001b[0m     hyp \u001b[39m=\u001b[39m X0[\u001b[39m0\u001b[39m : np\u001b[39m.\u001b[39mmaximum(opts_N, \u001b[39m1\u001b[39m), :]\n",
      "File \u001b[1;32mc:\\Users\\walki\\.conda\\envs\\bpe\\Lib\\site-packages\\gpyreg\\f_min_fill.py:175\u001b[0m, in \u001b[0;36mf_min_fill\u001b[1;34m(f, x0, LB, UB, PLB, PUB, hprior, N, design)\u001b[0m\n\u001b[0;32m    173\u001b[0m y \u001b[39m=\u001b[39m np\u001b[39m.\u001b[39mfull((N,), np\u001b[39m.\u001b[39minf)\n\u001b[0;32m    174\u001b[0m \u001b[39mfor\u001b[39;00m i \u001b[39min\u001b[39;00m \u001b[39mrange\u001b[39m(\u001b[39m0\u001b[39m, N):\n\u001b[1;32m--> 175\u001b[0m     y[i] \u001b[39m=\u001b[39m f(X[i, :])\n\u001b[0;32m    177\u001b[0m order \u001b[39m=\u001b[39m np\u001b[39m.\u001b[39margsort(y)\n\u001b[0;32m    179\u001b[0m \u001b[39mreturn\u001b[39;00m X[order, :], y[order]\n",
      "File \u001b[1;32mc:\\Users\\walki\\.conda\\envs\\bpe\\Lib\\site-packages\\gpyreg\\gaussian_process.py:1084\u001b[0m, in \u001b[0;36mGP.fit.<locals>.<lambda>\u001b[1;34m(hyp_)\u001b[0m\n\u001b[0;32m   1081\u001b[0m     hyp0 \u001b[39m=\u001b[39m \u001b[39mself\u001b[39m\u001b[39m.\u001b[39mhyperparameters_from_dict(hyp0)\n\u001b[0;32m   1083\u001b[0m \u001b[39m## Hyperparameter optimization\u001b[39;00m\n\u001b[1;32m-> 1084\u001b[0m objective_f_1 \u001b[39m=\u001b[39m \u001b[39mlambda\u001b[39;00m hyp_: \u001b[39mself\u001b[39;49m\u001b[39m.\u001b[39;49m__gp_obj_fun(hyp_, \u001b[39mFalse\u001b[39;49;00m, \u001b[39mFalse\u001b[39;49;00m)\n\u001b[0;32m   1085\u001b[0m \u001b[39mif\u001b[39;00m s_N \u001b[39m>\u001b[39m \u001b[39m0\u001b[39m \u001b[39mand\u001b[39;00m sampler_name \u001b[39m!=\u001b[39m \u001b[39m\"\u001b[39m\u001b[39mlaplace\u001b[39m\u001b[39m\"\u001b[39m:\n\u001b[0;32m   1086\u001b[0m     tol \u001b[39m=\u001b[39m tol_opt_mcmc\n",
      "File \u001b[1;32mc:\\Users\\walki\\.conda\\envs\\bpe\\Lib\\site-packages\\gpyreg\\gaussian_process.py:1543\u001b[0m, in \u001b[0;36mGP.__gp_obj_fun\u001b[1;34m(self, hyp, compute_grad, swap_sign)\u001b[0m\n\u001b[0;32m   1539\u001b[0m     nlZ, dnlZ \u001b[39m=\u001b[39m \u001b[39mself\u001b[39m\u001b[39m.\u001b[39m__compute_nlZ(\n\u001b[0;32m   1540\u001b[0m         hyp, compute_grad, \u001b[39mself\u001b[39m\u001b[39m.\u001b[39mno_prior \u001b[39mis\u001b[39;00m \u001b[39mnot\u001b[39;00m \u001b[39mTrue\u001b[39;00m\n\u001b[0;32m   1541\u001b[0m     )\n\u001b[0;32m   1542\u001b[0m \u001b[39melse\u001b[39;00m:\n\u001b[1;32m-> 1543\u001b[0m     nlZ \u001b[39m=\u001b[39m \u001b[39mself\u001b[39;49m\u001b[39m.\u001b[39;49m__compute_nlZ(\n\u001b[0;32m   1544\u001b[0m         hyp, compute_grad, \u001b[39mself\u001b[39;49m\u001b[39m.\u001b[39;49mno_prior \u001b[39mis\u001b[39;49;00m \u001b[39mnot\u001b[39;49;00m \u001b[39mTrue\u001b[39;49;00m\n\u001b[0;32m   1545\u001b[0m     )\n\u001b[0;32m   1547\u001b[0m \u001b[39m# Swap sign of negative log marginal likelihood (e.g. for sampling)\u001b[39;00m\n\u001b[0;32m   1548\u001b[0m \u001b[39mif\u001b[39;00m swap_sign:\n",
      "File \u001b[1;32mc:\\Users\\walki\\.conda\\envs\\bpe\\Lib\\site-packages\\gpyreg\\gaussian_process.py:1521\u001b[0m, in \u001b[0;36mGP.__compute_nlZ\u001b[1;34m(self, hyp, compute_grad, compute_prior)\u001b[0m\n\u001b[0;32m   1519\u001b[0m     nlZ, dnlZ \u001b[39m=\u001b[39m \u001b[39mself\u001b[39m\u001b[39m.\u001b[39m__core_computation(hyp, \u001b[39m1\u001b[39m, compute_grad)\n\u001b[0;32m   1520\u001b[0m \u001b[39melse\u001b[39;00m:\n\u001b[1;32m-> 1521\u001b[0m     nlZ \u001b[39m=\u001b[39m \u001b[39mself\u001b[39;49m\u001b[39m.\u001b[39;49m__core_computation(hyp, \u001b[39m1\u001b[39;49m, compute_grad)\n\u001b[0;32m   1523\u001b[0m \u001b[39mif\u001b[39;00m compute_prior:\n\u001b[0;32m   1524\u001b[0m     \u001b[39mif\u001b[39;00m compute_grad:\n",
      "File \u001b[1;32mc:\\Users\\walki\\.conda\\envs\\bpe\\Lib\\site-packages\\gpyreg\\gaussian_process.py:2447\u001b[0m, in \u001b[0;36mGP.__core_computation\u001b[1;34m(self, hyp, compute_nlZ, compute_nlZ_grad)\u001b[0m\n\u001b[0;32m   2437\u001b[0m         pL \u001b[39m=\u001b[39m sp\u001b[39m.\u001b[39mlinalg\u001b[39m.\u001b[39msolve_triangular(\n\u001b[0;32m   2438\u001b[0m             \u001b[39m-\u001b[39mL,\n\u001b[0;32m   2439\u001b[0m             sp\u001b[39m.\u001b[39mlinalg\u001b[39m.\u001b[39msolve_triangular(\n\u001b[1;32m   (...)\u001b[0m\n\u001b[0;32m   2443\u001b[0m             check_finite\u001b[39m=\u001b[39m\u001b[39mFalse\u001b[39;00m,\n\u001b[0;32m   2444\u001b[0m         )\n\u001b[0;32m   2446\u001b[0m \u001b[39mif\u001b[39;00m L \u001b[39mis\u001b[39;00m \u001b[39mNone\u001b[39;00m:\n\u001b[1;32m-> 2447\u001b[0m     \u001b[39mraise\u001b[39;00m sp\u001b[39m.\u001b[39mlinalg\u001b[39m.\u001b[39mLinAlgError(\n\u001b[0;32m   2448\u001b[0m         \u001b[39m\"\u001b[39m\u001b[39mSingular matrix for L Cholesky decomposition\u001b[39m\u001b[39m\"\u001b[39m\n\u001b[0;32m   2449\u001b[0m     )\n\u001b[0;32m   2451\u001b[0m alpha \u001b[39m=\u001b[39m (\n\u001b[0;32m   2452\u001b[0m     sp\u001b[39m.\u001b[39mlinalg\u001b[39m.\u001b[39msolve_triangular(\n\u001b[0;32m   2453\u001b[0m         L,\n\u001b[1;32m   (...)\u001b[0m\n\u001b[0;32m   2460\u001b[0m     \u001b[39m/\u001b[39m sl\n\u001b[0;32m   2461\u001b[0m )\n\u001b[0;32m   2463\u001b[0m \u001b[39m# Negative log marginal likelihood computation\u001b[39;00m\n",
      "\u001b[1;31mLinAlgError\u001b[0m: Singular matrix for L Cholesky decomposition"
     ]
    }
   ],
   "source": [
    "N = 2 \n",
    "Na = N # adjust number of grid points in a and b separatley if you want\n",
    "Nb = N\n",
    "\n",
    "vbmc_count = 0 \n",
    "param_list = []\n",
    "\n",
    "for i,a in enumerate(np.linspace(a_min,a_max,Na)):     # a will be y axis in grid\n",
    "    for j,b in enumerate(np.linspace(b_min,b_max,Nb)): # b will be x axis in grid\n",
    "        param_list.append([a,b])\n",
    "\n",
    "        # get truth\n",
    "        sol_true = odeint(diffyqs, initial_condition, t, args=(a,b))\n",
    "        x_true = sol_true[:,1]\n",
    "        \n",
    "        # Do initial optimization to get an x0\n",
    "        np.random.seed(1) # change this\n",
    "        x0 = minimize(\n",
    "            lambda t: -log_likelihood(t),\n",
    "            x0_rand,\n",
    "            bounds=[\n",
    "                (a_min, a_max),\n",
    "                (b_min, b_max),\n",
    "            ],\n",
    "        ).x\n",
    "\n",
    "        # run vbmc and save results\n",
    "        np.random.seed(1) # and this\n",
    "        vbmc = VBMC(log_likelihood, x0, LB, UB, PLB, PUB, prior = prior, options = options)\n",
    "        np.random.seed(1) # and this\n",
    "        vp, results = vbmc.optimize();\n",
    "        vbmc.save(\"vbmc\" + str(vbmc_count) + \".pkl\", overwrite=True)\n",
    "        vbmc.vp.save(\"vp\" + str(vbmc_count) + \".pkl\", overwrite=True)\n",
    "        vbmc_count += 1\n",
    "\n",
    "# save parameter values\n",
    "np.savetxt(\"param_values.csv\", np.array(param_list))"
   ]
  },
  {
   "attachments": {},
   "cell_type": "markdown",
   "metadata": {},
   "source": [
    "# Reading everything back in"
   ]
  },
  {
   "cell_type": "code",
   "execution_count": 69,
   "metadata": {},
   "outputs": [],
   "source": [
    "# reading in saved vps and their associated parameter values\n",
    "param_values = np.loadtxt(\"param_values.csv\")\n",
    "vps = []\n",
    "vbmcs = []\n",
    "for i in range(len(param_values)-1):\n",
    "    vps.append(VariationalPosterior.load(\"vp\" + str(i) + \".pkl\"))\n",
    "    vbmcs.append(VariationalPosterior.load(\"vbmc\" + str(i) + \".pkl\"))\n",
    "\n",
    "\n",
    "#unpack into appropriate 2d thing\n",
    "grid = np.zeros((Na,Nb))\n",
    "vps_2d = grid.tolist()\n",
    "params_2d = grid.tolist()\n",
    "count = 0\n",
    "for i,a in enumerate(np.linspace(a_min,a_max,1)):     # a will be y axis in grid\n",
    "    for j,b in enumerate(np.linspace(b_min,b_max,1)): # b will be x axis in grid\n",
    "        vps_2d[i][j] = vps[count]\n",
    "        params_2d[i][j] = param_values[count]\n",
    "        count += 1"
   ]
  }
 ],
 "metadata": {
  "kernelspec": {
   "display_name": "bpe",
   "language": "python",
   "name": "python3"
  },
  "language_info": {
   "codemirror_mode": {
    "name": "ipython",
    "version": 3
   },
   "file_extension": ".py",
   "mimetype": "text/x-python",
   "name": "python",
   "nbconvert_exporter": "python",
   "pygments_lexer": "ipython3",
   "version": "3.11.3"
  },
  "orig_nbformat": 4
 },
 "nbformat": 4,
 "nbformat_minor": 2
}
