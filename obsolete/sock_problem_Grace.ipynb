{
 "cells": [
  {
   "attachments": {},
   "cell_type": "markdown",
   "metadata": {},
   "source": [
    "# Here's my code for the sock problem!"
   ]
  },
  {
   "cell_type": "code",
   "execution_count": 90,
   "metadata": {},
   "outputs": [],
   "source": [
    "import random"
   ]
  },
  {
   "cell_type": "code",
   "execution_count": 91,
   "metadata": {},
   "outputs": [],
   "source": [
    "def pick_sock():\n",
    "    '''\n",
    "    This is my function to pick a random sock, where the probability of picking red is 75% and green 25%. Picking red returns True while green returns False.\n",
    "    '''\n",
    "    val = random.random()\n",
    "    if 0 <= val < .75:\n",
    "        return True\n",
    "    else:\n",
    "        return False"
   ]
  },
  {
   "cell_type": "code",
   "execution_count": 92,
   "metadata": {},
   "outputs": [
    {
     "name": "stdout",
     "output_type": "stream",
     "text": [
      "True\n"
     ]
    }
   ],
   "source": [
    "# This is simply to check that the function works\n",
    "print(pick_sock())"
   ]
  },
  {
   "cell_type": "code",
   "execution_count": 93,
   "metadata": {},
   "outputs": [],
   "source": [
    "def likelihood(red):\n",
    "    '''\n",
    "    This is my likelihood function. It remains the same no matter which iteration of Bayes you're at. It takes in a boolean, which comes from pick_sock, but\n",
    "    you want it to remain consistent when using Bayes, hence you don't pull a sock within this function.\n",
    "    Returns a dictionary of likelihoods, which is Pr(obability)(of the)E(vidence)_(given there are)#(of red socks) i.e. PrE_#.\n",
    "    '''\n",
    "    likelihoods = {}\n",
    "    # likelihoods1 = []\n",
    "    # likelihoods\n",
    "    if red == True:\n",
    "        likelihoods[\"PrE_0\"] = 0\n",
    "        likelihoods[\"PrE_1\"] = 1/4\n",
    "        likelihoods[\"PrE_2\"] = 1/2\n",
    "        likelihoods[\"PrE_3\"] = 3/4\n",
    "        likelihoods[\"PrE_4\"] = 1\n",
    "        likelihoods1 = [0, 1/4, 1/2, 3/4, 1]\n",
    "        return likelihoods\n",
    "    else:\n",
    "        likelihoods[\"PrE_0\"] = 1\n",
    "        likelihoods[\"PrE_1\"] = 3/4\n",
    "        likelihoods[\"PrE_2\"] = 1/2\n",
    "        likelihoods[\"PrE_3\"] = 1/4\n",
    "        likelihoods[\"PrE_4\"] = 0\n",
    "        likelihoods2 = [1, 3/4, 1/2, 1/4, 0]\n",
    "        return likelihoods\n",
    "    # return likelihoods1\n",
    "    "
   ]
  },
  {
   "cell_type": "code",
   "execution_count": 94,
   "metadata": {},
   "outputs": [
    {
     "name": "stdout",
     "output_type": "stream",
     "text": [
      "{'PrE_0': 1, 'PrE_1': 0.75, 'PrE_2': 0.5, 'PrE_3': 0.25, 'PrE_4': 0}\n"
     ]
    }
   ],
   "source": [
    "print(likelihood(pick_sock()))\n",
    "# checking that that works"
   ]
  },
  {
   "cell_type": "code",
   "execution_count": 95,
   "metadata": {},
   "outputs": [],
   "source": [
    "def bayes(n):\n",
    "    '''\n",
    "    This is my bayes function, which is recursive. Since it is recursive, I have to put in the last iteration of bayes, which I had it actually calculate,\n",
    "    but one can definitely just have it return either dictionary since it will consistently return one or the other given you pick red or green.\n",
    "    '''\n",
    "    picked_red = pick_sock()\n",
    "    if n == 0: \n",
    "        P_Hs = {\"H0\": .2, \"H1\": .2, \"H2\": .2, \"H3\": .2, \"H4\": .2}\n",
    "        prob_given = {}\n",
    "        if picked_red:\n",
    "            prob_given = {\"red_H0\": 0, \"red_H1\": 1/4, \"red_H2\": 1/2, \"red_H3\": 3/4, \"red_H4\": 1}\n",
    "        else:\n",
    "            prob_given = {\"red_H0\": 1, \"red_H1\": 3/4, \"red_H2\": 1/2, \"red_H3\": 1/4, \"red_H4\": 0}\n",
    "        evidence = 0\n",
    "        for key in prob_given:\n",
    "            evidence += prob_given[key] * P_Hs[key.replace('red_', '')]\n",
    "        \n",
    "        posterior = {}\n",
    "        likeli = likelihood(picked_red)\n",
    "        prior = 1/5\n",
    "        for key in likeli:\n",
    "            posterior[key.replace('PrE_', 'H')] = likeli[key] * prior / evidence\n",
    "        return posterior\n",
    "    \n",
    "    else:\n",
    "        likeli = likelihood(picked_red)\n",
    "        prior = bayes(n-1)\n",
    "\n",
    "        if picked_red:\n",
    "            prob_given = {\"red_H0\": 0, \"red_H1\": 1/4, \"red_H2\": 1/2, \"red_H3\": 3/4, \"red_H4\": 1}\n",
    "        else:\n",
    "            prob_given = {\"red_H0\": 1, \"red_H1\": 3/4, \"red_H2\": 1/2, \"red_H3\": 1/4, \"red_H4\": 0}\n",
    "        evidence = 0\n",
    "        for key in prob_given:\n",
    "            evidence += prob_given[key] * prior[key.replace('red_', '')]\n",
    "        \n",
    "        posterior = {}\n",
    "        \n",
    "        for key in likeli:\n",
    "            posterior[key.replace('PrE_', 'H')] = likeli[key] * prior[key.replace('PrE_', 'H')] / evidence\n",
    "        return posterior"
   ]
  },
  {
   "cell_type": "code",
   "execution_count": 96,
   "metadata": {},
   "outputs": [
    {
     "name": "stdout",
     "output_type": "stream",
     "text": [
      "1.0\n",
      "{'H0': 0.0, 'H1': 3.38475506171243e-22, 'H2': 3.75112620709625e-05, 'H3': 0.999962488737929, 'H4': 0.0}\n"
     ]
    }
   ],
   "source": [
    "# Checking that we get the probabilities that we want\n",
    "# We want 'H0' and 'H4' to be 0.0, and 'H3' to be nearly one while 'H1' and 'H2' are nearly zero\n",
    "# I also have it print the sum of each of the probabilites to make sure that it sums to 1\n",
    "# Works as intended\n",
    "\n",
    "check = bayes(100)\n",
    "total = 0\n",
    "for key in check:\n",
    "    total += check[key]\n",
    "print(total)\n",
    "print(check)"
   ]
  },
  {
   "cell_type": "code",
   "execution_count": 97,
   "metadata": {},
   "outputs": [],
   "source": [
    "def posterior_1(red):\n",
    "    '''\n",
    "    I coded the first run of bayes, just to make sure I remembered how to code and to get the idea of what to do, here I use arrays, but I end up using \n",
    "    dictionaries in the final function.\n",
    "    '''\n",
    "    numerator = []\n",
    "    likeli = likelihood(red)\n",
    "    prior = 1/5\n",
    "    for i in range(len(likeli)):\n",
    "        numerator.append(likeli[i] * prior)\n",
    "    # return numerator\n",
    "\n",
    "    PH_init = []\n",
    "    denom = []\n",
    "    if red:\n",
    "        PH_init = [0, 1/4, 1/2, 3/4, 1]\n",
    "    else:\n",
    "        PH_init = [1, 3/4, 1/2, 1/4, 0]\n",
    "\n",
    "    for i in range(len(PH_init)):\n",
    "        denom.append(PH_init[i] * 1/5)\n",
    "\n",
    "    total = []\n",
    "    for i in range(len(numerator)):\n",
    "        total.append(numerator[i]/sum(denom))\n",
    "    return total"
   ]
  }
 ],
 "metadata": {
  "kernelspec": {
   "display_name": "Python 3",
   "language": "python",
   "name": "python3"
  },
  "language_info": {
   "codemirror_mode": {
    "name": "ipython",
    "version": 3
   },
   "file_extension": ".py",
   "mimetype": "text/x-python",
   "name": "python",
   "nbconvert_exporter": "python",
   "pygments_lexer": "ipython3",
   "version": "3.11.3"
  },
  "orig_nbformat": 4
 },
 "nbformat": 4,
 "nbformat_minor": 2
}
