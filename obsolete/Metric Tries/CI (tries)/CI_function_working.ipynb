{
 "cells": [
  {
   "attachments": {},
   "cell_type": "markdown",
   "metadata": {},
   "source": [
    "Euclidean metric and the CI made out of the box (took one step in four directions and integrated over that box once it hit the true value). "
   ]
  },
  {
   "attachments": {},
   "cell_type": "markdown",
   "metadata": {},
   "source": []
  },
  {
   "attachments": {},
   "cell_type": "markdown",
   "metadata": {},
   "source": [
    "This notebook is all about coming up with ways to asses how good a job PyVBMC does. \n",
    "\n",
    "To start, we'll state the differential equation of interest, get integration working for that equation, and run a PyVBMC optimize routine on it.\n",
    "\n",
    "\n",
    "The differential equation:\n",
    "\n",
    "$$\\ddot{x} = -x -ax^b$$\n",
    "\n",
    "generalized to deal with all values of b:\n",
    "\n",
    "$$\\ddot{x} = -x - sign(x)a|x|^b$$\n",
    "\n",
    "$0<a\\leq0.5$\n",
    "\n",
    " $1\\leq b \\leq 5$"
   ]
  },
  {
   "cell_type": "code",
   "execution_count": 18,
   "metadata": {},
   "outputs": [],
   "source": [
    "import pandas as pd  # Data handling\n",
    "import matplotlib.pyplot as plt # visualization\n",
    "from scipy.integrate import odeint # numerical integration\n",
    "import numpy as np\n",
    "from pyvbmc import VBMC # VMBC object\n",
    "import scipy.stats as scs # scipy stats to get distributions from\n",
    "from pyvbmc.priors import UniformBox, Trapezoidal, SplineTrapezoidal, SmoothBox # nice priors from PyVBMC\n",
    "from sklearn.preprocessing import StandardScaler\n",
    "from sklearn.preprocessing import MinMaxScaler\n",
    "\n",
    "# import scipy.stats as scs\n",
    "import scipy.integrate as integrate\n",
    "# import numpy as np\n",
    "# import matplotlib.pyplot as plt"
   ]
  },
  {
   "cell_type": "code",
   "execution_count": 8,
   "metadata": {},
   "outputs": [],
   "source": [
    "def diffyqs(X, t, a,b):\n",
    "    x, vx = X[0], X[1]\n",
    "    dx = vx\n",
    "    dv = -x - np.sign(x) * a * np.abs(x)**b\n",
    "    return [dx, dv]\n",
    "\n",
    "initial_condition = [0.0, 3.5]\n",
    "t = np.arange(0,10,0.05)\n",
    "\n",
    "a = 0.2\n",
    "b = 2.0\n",
    "sol = odeint(diffyqs, initial_condition, t, args=(a,b))\n",
    "u = 0.1\n",
    "v = 2.5\n",
    "sol2 = odeint(diffyqs, initial_condition, t, args=(u,v))\n",
    "\n",
    "x_true = sol[:,1]\n",
    "\n",
    "a_min = 0.0\n",
    "a_max = 0.5\n",
    "b_min = 1.0\n",
    "b_max = 5.0"
   ]
  },
  {
   "cell_type": "code",
   "execution_count": 12,
   "metadata": {},
   "outputs": [
    {
     "data": {
      "image/png": "[encoded data removed]",
      "text/plain": [
       "<Figure size 400x250 with 1 Axes>"
      ]
     },
     "metadata": {},
     "output_type": "display_data"
    }
   ],
   "source": [
    "def plot_ts(t,ts,v, mode = 0):\n",
    "    plt.figure(figsize=(4,2.5))\n",
    "    if mode == 0:\n",
    "        plt.plot(t,ts)\n",
    "        plt.title('Time Series')\n",
    "        plt.xlabel('t')\n",
    "        plt.ylabel('x')\n",
    "        plt.grid()\n",
    "        plt.show()\n",
    "    else:\n",
    "        plt.plot(t,ts, label = 'time series')\n",
    "        plt.plot(t,v, label = 'velocity', alpha = 0.5)\n",
    "        plt.title('Time Series')\n",
    "        plt.xlabel('t')\n",
    "        plt.ylabel('x')\n",
    "        plt.legend()\n",
    "        plt.grid()\n",
    "        plt.show()\n",
    "\n",
    "plot_ts(t,sol[:, 1],sol[:, 0],1)\n",
    "# plot_ts(t,sol2[:, 1],sol2[:, 0],1)"
   ]
  },
  {
   "cell_type": "code",
   "execution_count": 10,
   "metadata": {},
   "outputs": [],
   "source": [
    "def log_likelihood(theta):\n",
    "    a,b = theta\n",
    "\n",
    "    sol = odeint(diffyqs, initial_condition, t, args=(a,b)) # get solution of ODE with current choice of params\n",
    "    \n",
    "    return -np.sum((sol[:,1] - x_true)**2) # normal distribution sorta"
   ]
  },
  {
   "cell_type": "code",
   "execution_count": 13,
   "metadata": {},
   "outputs": [
    {
     "name": "stdout",
     "output_type": "stream",
     "text": [
      "[[0. 1.]] [[0.05 1.05]] [[0.45 4.95]] [[0.5 5. ]] x0: [[0.11 3.5 ]]\n"
     ]
    }
   ],
   "source": [
    "D = 2  # 2-D since there are 2 params we're estimating\n",
    "\n",
    "LB = np.full((1, D), a_min)  # Lower bounds\n",
    "LB[0][1] = b_min\n",
    "UB = np.full((1, D), a_max)  # Upper bounds\n",
    "UB[0][1] = b_max\n",
    "\n",
    "PLB = np.copy(LB) + 0.05\n",
    "PUB = np.copy(UB) - 0.05\n",
    "\n",
    "x0 = np.full((1, D), 0.11) # starting point for inference   # 1.5 * np.ones((1, D))\n",
    "x0[0][1] = 3.5\n",
    "\n",
    "print(LB,PLB,PUB,UB,'x0:',x0)"
   ]
  },
  {
   "cell_type": "code",
   "execution_count": 20,
   "metadata": {},
   "outputs": [],
   "source": [
    "prior1 = SplineTrapezoidal(LB, PLB, PUB, UB)\n",
    "\n",
    "options1 = {\n",
    "    \"display\": \"off\"\n",
    "}\n",
    "\n",
    "#vbmc = VBMC(log_likelihood, x0, LB, UB, PLB, PUB, prior = prior, options = options) # initialize VMBC object"
   ]
  },
  {
   "cell_type": "code",
   "execution_count": 17,
   "metadata": {},
   "outputs": [],
   "source": [
    "def euclidean_metric(vp,truth_array, n_samples = int(1e6)): \n",
    "    \"\"\"\n",
    "    Returns a measure of how close the actual parameters are to the estimated parameters,\n",
    "    computed by finding the euclidean distance between the mean of a large sample of the \n",
    "    varaitional posterior and the true values of the parameters.\n",
    "\n",
    "    vp: varational posterior from PyVBMC\n",
    "    truth_array: numpy array of the true values of the parameters (must be in the same order as the vp returns!)\n",
    "    \"\"\"\n",
    "    Xs, _ = vp.sample(n_samples) # sample vp\n",
    "    # scaler = StandardScaler() # create scaler (don't bother centering)\n",
    "    # scaler = MinMaxScaler(feature_range=(0,1))\n",
    "    scaler = MinMaxScaler()\n",
    "    scaler.fit(Xs)                     # fit scaler to samples\n",
    "    scaled_data = scaler.transform(Xs) # scale samples\n",
    "    mean = np.array([scaled_data[:,0].mean(),scaled_data[:,1].mean()]) # compute mean of samples\n",
    "    truth_scaled = scaler.transform(truth_array) # scale true data\n",
    "    return np.linalg.norm(mean-truth_scaled) # return distance between mean and truth\n",
    "\n",
    "# call the function on our current example\n",
    "#euclidean_metric(vp,np.array([[a,b]]))"
   ]
  },
  {
   "cell_type": "code",
   "execution_count": 21,
   "metadata": {},
   "outputs": [
    {
     "name": "stdout",
     "output_type": "stream",
     "text": [
      "Inference terminated: variational solution stable for options.tol_stable_count fcn evaluations.\n",
      "Estimated ELBO: -4.915 +/-0.001.\n"
     ]
    }
   ],
   "source": [
    "vbmc = VBMC(log_likelihood, x0, LB, UB, PLB, PUB, prior = prior1, options = options1) # initialize VMBC object\n",
    "\n",
    "vp, results = vbmc.optimize() # do optimization (might take a while)"
   ]
  },
  {
   "cell_type": "code",
   "execution_count": 24,
   "metadata": {},
   "outputs": [
    {
     "data": {
      "text/plain": [
       "array([[0.24551166, 1.86459083]])"
      ]
     },
     "execution_count": 24,
     "metadata": {},
     "output_type": "execute_result"
    }
   ],
   "source": [
    "vp.moments()\n",
    "# vp.plot()"
   ]
  },
  {
   "cell_type": "code",
   "execution_count": null,
   "metadata": {},
   "outputs": [],
   "source": []
  },
  {
   "cell_type": "code",
   "execution_count": 31,
   "metadata": {},
   "outputs": [
    {
     "name": "stdout",
     "output_type": "stream",
     "text": [
      "mode: [[0.04683791 1.01351155]]\n",
      "a0, b0: -0.05316209285902826 0.14683790714097175 a1, b1: 0.9135115462440123 1.1135115462440124\n",
      "0.0\n",
      "[0.2, 2.0]\n",
      "0.0\n",
      "3.7414308942212677e-146\n",
      "5.2201674078736016e-09\n",
      "0.15625521288500782\n",
      "0.24510127449070623\n",
      "0.32507471496308366\n",
      "0.40879270695402503\n",
      "0.49223322192164914\n",
      "0.5710245167723486\n",
      "hit\n",
      "CI: 0.5710245167723486\n"
     ]
    }
   ],
   "source": [
    "pdf_simple = lambda x,y: vp.pdf(np.array([[y,x]]))\n",
    "def CI_2D(vp,pdf,true_value,step = 0.05,n_samples = int(5e5)):\n",
    "    # do sampling, take mode of samples\n",
    "    Xs, _ = vp.sample(n_samples) # sample vp\n",
    "    pdf_mode = scs.mode(Xs,keepdims = True)[0]\n",
    "    print(\"mode:\",pdf_mode)\n",
    "    a0,b0 = pdf_mode[0][0] - step, pdf_mode[0][0] + step\n",
    "    a1,b1 = pdf_mode[0][1] - step, pdf_mode[0][1] + step\n",
    "    print(\"a0, b0:\", a0, b0, \"a1, b1:\", a1, b1)\n",
    "    I = integrate.dblquad(pdf, a0, b0, a1, b1)[0]\n",
    "    print(I)\n",
    "    print(true_value)\n",
    "    def check_if_in_CI(true_value,a0,b0,a1,b1):\n",
    "        # if a0 <= true_value[0] and true_value[0] <= b0 \\\n",
    "        #     and a1 <= true_value[1] and true_value[1] <= b1:\n",
    "\n",
    "        if a0 <= true_value[0] <= b0 and a1 <= true_value[1] <= b1:\n",
    "            print(\"hit\")\n",
    "            return False\n",
    "        else:\n",
    "            return True\n",
    "    iter = 0\n",
    "    while check_if_in_CI(true_value,a0,b0,a1,b1):\n",
    "        I = integrate.dblquad(pdf, a0, b0, a1, b1)[0]\n",
    "        a0 -= step\n",
    "        b0 += step\n",
    "        a1 -= step\n",
    "        b1 += step\n",
    "        #print(\"iter\",iter )\n",
    "        iter += 1\n",
    "        print(I)\n",
    "    return I\n",
    "print(\"CI:\",CI_2D(vp,pdf_simple,[0.2,2.0],0.1))\n"
   ]
  }
 ],
 "metadata": {
  "kernelspec": {
   "display_name": "bpe",
   "language": "python",
   "name": "python3"
  },
  "language_info": {
   "codemirror_mode": {
    "name": "ipython",
    "version": 3
   },
   "file_extension": ".py",
   "mimetype": "text/x-python",
   "name": "python",
   "nbconvert_exporter": "python",
   "pygments_lexer": "ipython3",
   "version": "3.11.3"
  },
  "orig_nbformat": 4
 },
 "nbformat": 4,
 "nbformat_minor": 2
}
