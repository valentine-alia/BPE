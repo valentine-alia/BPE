{
 "cells": [
  {
   "attachments": {},
   "cell_type": "markdown",
   "metadata": {},
   "source": [
    "Solution to Grace's logistic problem using julia."
   ]
  },
  {
   "cell_type": "code",
   "execution_count": 37,
   "metadata": {},
   "outputs": [],
   "source": [
    "using Plots\n",
    "using Printf\n",
    "using DifferentialEquations\n",
    "using DataFrames\n",
    "using CSV"
   ]
  },
  {
   "cell_type": "code",
   "execution_count": null,
   "metadata": {},
   "outputs": [],
   "source": [
    "f(u, p, t) = 3 * "
   ]
  },
  {
   "cell_type": "code",
   "execution_count": 42,
   "metadata": {},
   "outputs": [
    {
     "ename": "UndefVarError",
     "evalue": "UndefVarError: u not defined",
     "output_type": "error",
     "traceback": [
      "UndefVarError: u not defined\n",
      "\n",
      "Stacktrace:\n",
      " [1] top-level scope\n",
      "   @ Untitled-2.ipynb:3"
     ]
    }
   ],
   "source": [
    "# f(u, p, t) = (-1/100)*(log(3)-log(9)) * u * (100-u)\n",
    "f(u, p, t) = 1/50 * u * (100-u)\n",
    "du = f(u,p,t)\n",
    "u0 = 10\n",
    "tspan = (0.0, 3.0)\n",
    "prob = ODEProblem(f, u0, tspan)\n",
    "sol = solve(prob, Tsit5(), reltol = 1e-8, abstol = 1e-8)\n",
    "\n",
    "plot(sol, linewidth = 3, title = \"Fish Population\",\n",
    "     xaxis = \"Time (t) (weeks)\", yaxis = \"y(t) (number of fish)\", label = \"Fishes!\") # legend=false\n",
    "plot!(sol.t, t -> 100 / (exp(-100((-1/100)*(log(3)-log(9)))t+log(9))+1), lw = 3, ls = :dash, label = \"True Solution!\")\n",
    "#print(sol)"
   ]
  },
  {
   "cell_type": "code",
   "execution_count": 36,
   "metadata": {},
   "outputs": [
    {
     "ename": "DiffEqBase.IncompatibleInitialConditionError",
     "evalue": "Initial condition incompatible with functional form.\nDetected an in-place function with an initial condition of type Number or SArray.\nThis is incompatible because Numbers cannot be mutated, i.e.\n`x = 2.0; y = 2.0; x .= y` will error.\n\nIf using a immutable initial condition type, please use the out-of-place form.\nI.e. define the function `du=f(u,p,t)` instead of attempting to \"mutate\" the immutable `du`.\n\nIf your differential equation function was defined with multiple dispatches and one is\nin-place, then the automatic detection will choose in-place. In this case, override the\nchoice in the problem constructor, i.e. `ODEProblem{false}(f,u0,tspan,p,kwargs...)`.\n\nFor a longer discussion on mutability vs immutability and in-place vs out-of-place, see:\nhttps://diffeq.sciml.ai/stable/tutorials/faster_ode_example/#Example-Accelerating-a-Non-Stiff-Equation:-The-Lorenz-Equation\n\n\nSome of the types have been truncated in the stacktrace for improved reading. To emit complete information\nin the stack trace, evaluate `TruncatedStacktraces.VERBOSE[] = true` and re-run the code.\n",
     "output_type": "error",
     "traceback": [
      "Initial condition incompatible with functional form.\n",
      "Detected an in-place function with an initial condition of type Number or SArray.\n",
      "This is incompatible because Numbers cannot be mutated, i.e.\n",
      "`x = 2.0; y = 2.0; x .= y` will error.\n",
      "\n",
      "If using a immutable initial condition type, please use the out-of-place form.\n",
      "I.e. define the function `du=f(u,p,t)` instead of attempting to \"mutate\" the immutable `du`.\n",
      "\n",
      "If your differential equation function was defined with multiple dispatches and one is\n",
      "in-place, then the automatic detection will choose in-place. In this case, override the\n",
      "choice in the problem constructor, i.e. `ODEProblem{false}(f,u0,tspan,p,kwargs...)`.\n",
      "\n",
      "For a longer discussion on mutability vs immutability and in-place vs out-of-place, see:\n",
      "https://diffeq.sciml.ai/stable/tutorials/faster_ode_example/#Example-Accelerating-a-Non-Stiff-Equation:-The-Lorenz-Equation\n",
      "\n",
      "\n",
      "Some of the types have been truncated in the stacktrace for improved reading. To emit complete information\n",
      "in the stack trace, evaluate `TruncatedStacktraces.VERBOSE[] = true` and re-run the code.\n",
      "\n",
      "\n",
      "Stacktrace:\n",
      " [1] get_concrete_u0(prob::ODEProblem{Int64, Tuple{Float64, Float64}, true, SciMLBase.NullParameters, ODEFunction{true, SciMLBase.AutoSpecialize, typeof(f), LinearAlgebra.UniformScaling{Bool}, Nothing, Nothing, Nothing, Nothing, Nothing, Nothing, Nothing, Nothing, Nothing, Nothing, Nothing, Nothing, Nothing, typeof(SciMLBase.DEFAULT_OBSERVED), Nothing, Nothing}, Base.Pairs{Symbol, Union{}, Tuple{}, NamedTuple{(), Tuple{}}}, SciMLBase.StandardODEProblem}, isadapt::Bool, t0::Float64, kwargs::Base.Pairs{Symbol, Any, NTuple{4, Symbol}, NamedTuple{(:u0, :p, :reltol, :abstol), Tuple{Int64, SciMLBase.NullParameters, Float64, Float64}}})\n",
      "   @ DiffEqBase ~/.julia/packages/DiffEqBase/HoOGI/src/solve.jl:1190\n",
      " [2] get_concrete_problem(prob::ODEProblem{Int64, Tuple{Float64, Float64}, true, SciMLBase.NullParameters, ODEFunction{true, SciMLBase.AutoSpecialize, typeof(f), LinearAlgebra.UniformScaling{Bool}, Nothing, Nothing, Nothing, Nothing, Nothing, Nothing, Nothing, Nothing, Nothing, Nothing, Nothing, Nothing, Nothing, typeof(SciMLBase.DEFAULT_OBSERVED), Nothing, Nothing}, Base.Pairs{Symbol, Union{}, Tuple{}, NamedTuple{(), Tuple{}}}, SciMLBase.StandardODEProblem}, isadapt::Bool; kwargs::Base.Pairs{Symbol, Any, NTuple{4, Symbol}, NamedTuple{(:u0, :p, :reltol, :abstol), Tuple{Int64, SciMLBase.NullParameters, Float64, Float64}}})\n",
      "   @ DiffEqBase ~/.julia/packages/DiffEqBase/HoOGI/src/solve.jl:1059\n",
      " [3] solve_up(prob::ODEProblem{Int64, Tuple{Float64, Float64}, true, SciMLBase.NullParameters, ODEFunction{true, SciMLBase.AutoSpecialize, typeof(f), LinearAlgebra.UniformScaling{Bool}, Nothing, Nothing, Nothing, Nothing, Nothing, Nothing, Nothing, Nothing, Nothing, Nothing, Nothing, Nothing, Nothing, typeof(SciMLBase.DEFAULT_OBSERVED), Nothing, Nothing}, Base.Pairs{Symbol, Union{}, Tuple{}, NamedTuple{(), Tuple{}}}, SciMLBase.StandardODEProblem}, sensealg::Nothing, u0::Int64, p::SciMLBase.NullParameters, args::Tsit5{typeof(OrdinaryDiffEq.trivial_limiter!), typeof(OrdinaryDiffEq.trivial_limiter!), Static.False}; kwargs::Base.Pairs{Symbol, Float64, Tuple{Symbol, Symbol}, NamedTuple{(:reltol, :abstol), Tuple{Float64, Float64}}})\n",
      "   @ DiffEqBase ~/.julia/packages/DiffEqBase/HoOGI/src/solve.jl:969\n",
      " [4] solve(prob::ODEProblem{Int64, Tuple{Float64, Float64}, true, SciMLBase.NullParameters, ODEFunction{true, SciMLBase.AutoSpecialize, typeof(f), LinearAlgebra.UniformScaling{Bool}, Nothing, Nothing, Nothing, Nothing, Nothing, Nothing, Nothing, Nothing, Nothing, Nothing, Nothing, Nothing, Nothing, typeof(SciMLBase.DEFAULT_OBSERVED), Nothing, Nothing}, Base.Pairs{Symbol, Union{}, Tuple{}, NamedTuple{(), Tuple{}}}, SciMLBase.StandardODEProblem}, args::Tsit5{typeof(OrdinaryDiffEq.trivial_limiter!), typeof(OrdinaryDiffEq.trivial_limiter!), Static.False}; sensealg::Nothing, u0::Nothing, p::Nothing, wrap::Val{true}, kwargs::Base.Pairs{Symbol, Float64, Tuple{Symbol, Symbol}, NamedTuple{(:reltol, :abstol), Tuple{Float64, Float64}}})\n",
      "   @ DiffEqBase ~/.julia/packages/DiffEqBase/HoOGI/src/solve.jl:882\n",
      " [5] top-level scope\n",
      "   @ Untitled-2.ipynb:5"
     ]
    }
   ],
   "source": [
    "f(u, p, t) = 1/50 * u * (100 - u)\n",
    "u0 = 10\n",
    "tspan = (0.0, 3.0)\n",
    "prob = ODEProblem(f, u0, tspan)\n",
    "sol = solve(prob, Tsit5(), reltol = 1e-8, abstol = 1e-8)\n",
    "\n",
    "plot(sol, linewidth = 5, title = \"Fish Population\",\n",
    "     xaxis = \"Time (t) (weeks)\", yaxis = \"y(t) (number of fish)\", label = \"Fish!\") # legend=false\n",
    "plot!(sol.t, t -> 100 / (exp(-100(1/50)t+log(9))+1), lw = 3, ls = :dash, label = \"True Solution!\")\n",
    "#print(sol)"
   ]
  },
  {
   "attachments": {},
   "cell_type": "markdown",
   "metadata": {},
   "source": [
    "Here's the (first) ODE challenge I'm making for you guys. \n",
    "\n",
    "I'm modeling the population of a fish tank through the logistic equation:\n",
    "$$\\dot{y} = - \\varepsilon y(100-y)$$\n",
    "\n",
    "In this case $y(t)$ is the population of fish after time $t$ (weeks), $\\varepsilon > 0$ (the thing you will be solving for), is a constant measuring the reproduction speed of the fish relative to the capacity, and 100 measures the carrying capacity of the tank.\n"
   ]
  },
  {
   "attachments": {},
   "cell_type": "markdown",
   "metadata": {},
   "source": []
  },
  {
   "cell_type": "code",
   "execution_count": 16,
   "metadata": {},
   "outputs": [],
   "source": [
    "df = DataFrame(sol)\n",
    "CSV.write(\"/Users/gracerojo/Downloads/DiffEqThings/ode_challenge_1_data.csv\", df)\n",
    "print()"
   ]
  },
  {
   "cell_type": "code",
   "execution_count": null,
   "metadata": {},
   "outputs": [],
   "source": [
    "# Read in the data\n",
    "data = CSV.read(\"/Users/gracerojo/Downloads/DiffEqThings/ode_challenge_1_data.csv\", DataFrame) # change the string to whatever the path to the csv of the data is for you\n",
    "\n",
    "# Unpack data into more readable variables\n",
    "t = data[!,1]\n",
    "x = data[!,3]\n",
    "print()"
   ]
  }
 ],
 "metadata": {
  "kernelspec": {
   "display_name": "Julia 1.8.0",
   "language": "julia",
   "name": "julia-1.8"
  },
  "language_info": {
   "file_extension": ".jl",
   "mimetype": "application/julia",
   "name": "julia",
   "version": "1.8.0"
  },
  "orig_nbformat": 4
 },
 "nbformat": 4,
 "nbformat_minor": 2
}
