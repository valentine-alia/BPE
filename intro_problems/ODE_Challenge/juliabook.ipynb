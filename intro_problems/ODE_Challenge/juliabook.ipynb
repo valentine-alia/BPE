{
 "cells": [
  {
   "cell_type": "code",
   "execution_count": 2,
   "metadata": {},
   "outputs": [
    {
     "name": "stdout",
     "output_type": "stream",
     "text": [
      "this is a string I thought of just now\n"
     ]
    }
   ],
   "source": [
    "using Printf\n",
    "using Statistics\n",
    "\n",
    "s = \"this is a string I thought of just now\"\n",
    "\n",
    "println(s)"
   ]
  },
  {
   "cell_type": "code",
   "execution_count": 10,
   "metadata": {},
   "outputs": [
    {
     "name": "stdout",
     "output_type": "stream",
     "text": [
      "middle school\n"
     ]
    }
   ],
   "source": [
    "age = 12\n",
    "\n",
    "if age >= 5 && age <= 6\n",
    "    println(\"You're in Kindergarden\")\n",
    "elseif age >= 7 && age <= 13\n",
    "    println(\"middle school\")\n",
    "elseif age >= 14 && age <= 18\n",
    "    println(\"hs\")\n",
    "else\n",
    "    println(\"blah\")\n",
    "end"
   ]
  },
  {
   "attachments": {},
   "cell_type": "markdown",
   "metadata": {},
   "source": [
    "bools are `true` and `false`\n",
    "\n",
    "and: `&&`, or:`||`"
   ]
  },
  {
   "cell_type": "code",
   "execution_count": 18,
   "metadata": {},
   "outputs": [
    {
     "name": "stdout",
     "output_type": "stream",
     "text": [
      "2\n",
      "4\n",
      "6\n",
      "8\n"
     ]
    }
   ],
   "source": [
    "i = 1\n",
    "while i < 20\n",
    "    if (i % 2) == 0\n",
    "        println(i)\n",
    "        global i += 1\n",
    "        continue\n",
    "    end\n",
    "    global i += 1\n",
    "    if i >= 10\n",
    "        break\n",
    "    end\n",
    "end"
   ]
  },
  {
   "cell_type": "code",
   "execution_count": 25,
   "metadata": {},
   "outputs": [
    {
     "name": "stdout",
     "output_type": "stream",
     "text": [
      "1\n",
      "2\n",
      "3\n",
      "2\n",
      "4\n",
      "6\n"
     ]
    },
    {
     "name": "stdout",
     "output_type": "stream",
     "text": [
      "(1, 2)\n",
      "(1, 4)\n",
      "(2, 2)\n",
      "(2, 4)\n"
     ]
    }
   ],
   "source": [
    "for i = 1:3\n",
    "    println(i)\n",
    "end\n",
    "\n",
    "for i in [2,4,6]\n",
    "    println(i)\n",
    "end\n",
    "\n",
    "for i = 1:2, j = 2:2:4\n",
    "    println((i,j))\n",
    "end"
   ]
  },
  {
   "cell_type": "code",
   "execution_count": 29,
   "metadata": {},
   "outputs": [
    {
     "name": "stdout",
     "output_type": "stream",
     "text": [
      "1\n",
      "false\n",
      "2\n"
     ]
    },
    {
     "name": "stdout",
     "output_type": "stream",
     "text": [
      "[2, 3]\n",
      "2\n"
     ]
    }
   ],
   "source": [
    "ary1 = zeros(Int32,2,2)\n",
    "ary2 = Array{Int32}(undef, 5)\n",
    "\n",
    "ary3 = Float64[]\n",
    "\n",
    "ary4 = [1,2,3]\n",
    "\n",
    "println(ary4[1])\n",
    "println(5 in ary4)\n",
    "println(findfirst(isequal(2), ary4))\n",
    "f(a) = (a>=2) ? true : false\n",
    "println(findall(f,ary4))\n",
    "println(count(f,ary4))"
   ]
  },
  {
   "cell_type": "code",
   "execution_count": 38,
   "metadata": {},
   "outputs": [
    {
     "name": "stdout",
     "output_type": "stream",
     "text": [
      "(11,)\n",
      "11\n",
      "74\n",
      "[1, 8, 9, 8, 9, 8, 9, 8, 9, 8, 9, 2, 3]\n",
      "9\n",
      "[2, 16, 18, 16, 18, 16, 18, 16, 18, 16, 18, 4, 6]\n"
     ]
    },
    {
     "name": "stdout",
     "output_type": "stream",
     "text": [
      "3\n"
     ]
    }
   ],
   "source": [
    "println(size(ary4))\n",
    "println(length(ary4))\n",
    "println(sum(ary4))\n",
    "splice!(ary4, 2:1, [8,9])\n",
    "println(ary4)\n",
    "println(maximum(ary4))\n",
    "println(ary4 * 2)\n",
    "println(argmax(ary4))"
   ]
  },
  {
   "cell_type": "code",
   "execution_count": 44,
   "metadata": {},
   "outputs": [
    {
     "name": "stdout",
     "output_type": "stream",
     "text": [
      "0.0\n",
      "1.0\n",
      "0.0\n",
      "1 2 3 4 5 6 \n",
      "[2, 5]\n"
     ]
    }
   ],
   "source": [
    "ary6 = [sin,cos,tan]\n",
    "for n in ary6\n",
    "    println(n(0))\n",
    "end\n",
    "\n",
    "ary7 = [1 2 3; 4 5 6]\n",
    "\n",
    "for n = 1:2, m = 1:3\n",
    "    @printf(\"%d \",ary7[n,m])\n",
    "end\n",
    "\n",
    "println()\n",
    "\n",
    "println(ary7[:,2])"
   ]
  },
  {
   "cell_type": "code",
   "execution_count": 56,
   "metadata": {},
   "outputs": [
    {
     "name": "stdout",
     "output_type": "stream",
     "text": [
      "[1, 2, 3, 4, 5]\n",
      "2468"
     ]
    },
    {
     "name": "stdout",
     "output_type": "stream",
     "text": [
      "10\n",
      "[1, 4, 9, 16, 25]\n",
      "[1, 4, 9, 16, 25, 36]\n"
     ]
    }
   ],
   "source": [
    "ary8 = collect(1:5)\n",
    "println(ary8)\n",
    "\n",
    "ary9 = collect(2:2:10)\n",
    "for n in ary9 print(n) end\n",
    "\n",
    "ary10 = [n^2 for n in 1:5]\n",
    "\n",
    "println()\n",
    "\n",
    "println(ary10)\n",
    "\n",
    "println(push!(ary10,36))"
   ]
  },
  {
   "cell_type": "code",
   "execution_count": 57,
   "metadata": {},
   "outputs": [
    {
     "name": "stdout",
     "output_type": "stream",
     "text": [
      "[0 3 5 0 7; 4 7 9 1 9; 5 2 2 7 2; 2 4 3 7 2; 1 1 7 5 7]\n"
     ]
    }
   ],
   "source": [
    "ary11 = rand(0:9, 5,5)\n",
    "\n",
    "println(ary11)"
   ]
  },
  {
   "cell_type": "code",
   "execution_count": 62,
   "metadata": {},
   "outputs": [
    {
     "name": "stdout",
     "output_type": "stream",
     "text": [
      "[7.5, 5.4, 9.0]\n"
     ]
    }
   ],
   "source": [
    "ary12 = [5.5,3.4,7.0]\n",
    "\n",
    "println(ary12 .+ 2.0) # syntax for arry wide addtion (requires the dot for some reason??)"
   ]
  },
  {
   "cell_type": "code",
   "execution_count": null,
   "metadata": {},
   "outputs": [],
   "source": []
  }
 ],
 "metadata": {
  "kernelspec": {
   "display_name": "Julia 1.9.0",
   "language": "julia",
   "name": "julia-1.9"
  },
  "language_info": {
   "file_extension": ".jl",
   "mimetype": "application/julia",
   "name": "julia",
   "version": "1.9.0"
  },
  "orig_nbformat": 4
 },
 "nbformat": 4,
 "nbformat_minor": 2
}
