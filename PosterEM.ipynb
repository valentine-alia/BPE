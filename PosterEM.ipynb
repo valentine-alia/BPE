{
 "cells": [
  {
   "attachments": {},
   "cell_type": "markdown",
   "metadata": {},
   "source": [
    "## Poster Euclidian Metrics ##"
   ]
  },
  {
   "cell_type": "code",
   "execution_count": 1,
   "metadata": {},
   "outputs": [],
   "source": [
    "#imports\n",
    "import pandas as pd  # Data handling\n",
    "import matplotlib.pyplot as plt # visualization\n",
    "from scipy.integrate import odeint # numerical integration\n",
    "import numpy as np\n",
    "import seaborn as sns\n",
    "from pyvbmc import VBMC # VMBC object\n",
    "from pyvbmc import VariationalPosterior\n",
    "import matplotlib.pyplot as plt\n",
    "import seaborn as sns\n",
    "from sklearn.preprocessing import MinMaxScaler\n",
    "import scipy.integrate as integrate\n",
    "from pyvbmc.parameter_transformer import ParameterTransformer\n"
   ]
  },
  {
   "cell_type": "code",
   "execution_count": 2,
   "metadata": {},
   "outputs": [],
   "source": [
    "a_min = 0.0\n",
    "a_max = 0.5\n",
    "b_min = 1.0\n",
    "b_max = 5.0\n",
    "N = 10\n",
    "Na = N\n",
    "Nb = N\n",
    "\n",
    "# reading in saved vps and their associated parameter values\n",
    "param_values = np.loadtxt(\"param_values.csv\")\n",
    "vps = []\n",
    "vbmcs = []\n",
    "for i in range(len(param_values)):\n",
    "    vps.append(VariationalPosterior.load(\"vp\" + str(i) + \".pkl\"))\n",
    "    vbmcs.append(VariationalPosterior.load(\"vbmc\" + str(i) + \".pkl\"))"
   ]
  },
  {
   "cell_type": "code",
   "execution_count": 3,
   "metadata": {},
   "outputs": [],
   "source": [
    "def euclidean_metric(vp,truth_array,D,LB,UB,PLB,PUB, n_samples = int(1e6),original = False):\n",
    "    \"\"\"\n",
    "    Finds distance between truth and mean of samples from vp in unconstrained space\n",
    "    \"\"\"\n",
    "    scaler = ParameterTransformer(D,LB,UB,PLB,PUB)\n",
    "    scaled_truth = scaler.__call__(truth_array)\n",
    "    Xs, _ = vp.sample(n_samples, orig_flag = False)\n",
    "    mean = np.array([Xs[:,i].mean() for i in range(D)])\n",
    "    if original:\n",
    "        return np.linalg.norm(scaler.inverse(mean-scaled_truth))\n",
    "    else:\n",
    "        return np.linalg.norm(mean-scaled_truth)   "
   ]
  },
  {
   "cell_type": "code",
   "execution_count": 4,
   "metadata": {},
   "outputs": [],
   "source": [
    "D = 2  # 2-D since there are 2 params we're estimating\n",
    "\n",
    "LB = np.full((1, D), a_min)  # Lower bounds\n",
    "LB[0][1] = b_min\n",
    "UB = np.full((1, D), a_max)  # Upper bounds\n",
    "UB[0][1] = b_max\n",
    "\n",
    "PLB = np.copy(LB) + 0.05\n",
    "PUB = np.copy(UB) - 0.05\n",
    "\n",
    "#x0 = np.full((1, D), a_true+0.1) # starting point for inference   # 1.5 * np.ones((1, D))\n",
    "#0[0][1] = b_true + 0.1\n",
    "\n",
    "#print(LB,PLB,PUB,UB,'x0:',x0)"
   ]
  },
  {
   "cell_type": "code",
   "execution_count": 5,
   "metadata": {},
   "outputs": [
    {
     "name": "stdout",
     "output_type": "stream",
     "text": [
      "vp0\n",
      "vp1\n",
      "vp2\n",
      "vp3\n",
      "vp4\n",
      "vp5\n",
      "vp6\n",
      "vp7\n",
      "vp8\n",
      "vp9\n",
      "vp10\n",
      "vp11\n",
      "vp12\n",
      "vp13\n",
      "vp14\n",
      "vp15\n",
      "vp16\n",
      "vp17\n",
      "vp18\n",
      "vp19\n",
      "vp20\n",
      "vp21\n",
      "vp22\n",
      "vp23\n",
      "vp24\n",
      "vp25\n",
      "vp26\n",
      "vp27\n",
      "vp28\n",
      "vp29\n",
      "vp30\n",
      "vp31\n",
      "vp32\n",
      "vp33\n",
      "vp34\n",
      "vp35\n",
      "vp36\n",
      "vp37\n",
      "vp38\n",
      "vp39\n",
      "vp40\n",
      "vp41\n",
      "vp42\n",
      "vp43\n",
      "vp44\n",
      "vp45\n",
      "vp46\n",
      "vp47\n",
      "vp48\n",
      "vp49\n",
      "vp50\n",
      "vp51\n",
      "vp52\n",
      "vp53\n",
      "vp54\n",
      "vp55\n",
      "vp56\n",
      "vp57\n",
      "vp58\n",
      "vp59\n",
      "vp60\n",
      "vp61\n",
      "vp62\n",
      "vp63\n",
      "vp64\n",
      "vp65\n",
      "vp66\n",
      "vp67\n",
      "vp68\n",
      "vp69\n",
      "vp70\n",
      "vp71\n",
      "vp72\n",
      "vp73\n",
      "vp74\n",
      "vp75\n",
      "vp76\n",
      "vp77\n",
      "vp78\n",
      "vp79\n",
      "vp80\n",
      "vp81\n",
      "vp82\n",
      "vp83\n",
      "vp84\n",
      "vp85\n",
      "vp86\n",
      "vp87\n",
      "vp88\n",
      "vp89\n",
      "vp90\n",
      "vp91\n",
      "vp92\n",
      "vp93\n",
      "vp94\n",
      "vp95\n",
      "vp96\n",
      "vp97\n",
      "vp98\n",
      "vp99\n",
      "100\n"
     ]
    }
   ],
   "source": [
    "euclidean_grid = np.zeros((N,N))\n",
    "#CI_grid = np.zeros((N,N))\n",
    "count = 0\n",
    "for i,a in enumerate(np.linspace(a_min,a_max,N)):     # a will be y axis in grid\n",
    "    for j,b in enumerate(np.linspace(b_min,b_max,N)): # b will be x axis in grid\n",
    "        euclidean_grid[i,j] = euclidean_metric(vps[count],np.atleast_2d(param_values[count]), D, LB, UB, PLB, PUB )\n",
    "        print(\"vp\" + str(count))\n",
    "        count += 1\n",
    "\n",
    "print(count)"
   ]
  },
  {
   "cell_type": "code",
   "execution_count": 17,
   "metadata": {},
   "outputs": [
    {
     "data": {
      "text/plain": [
       "array([[ 8.05633833, 35.4081224 , 41.33441598, 37.79524072, 35.82634351,\n",
       "        14.65718413,  3.92032706,  9.15538178],\n",
       "       [38.25631233, 38.40541206, 39.26807793, 25.54023717,  9.71809232,\n",
       "        13.07272229, 40.23729788, 69.09661684],\n",
       "       [36.00314402, 34.66702226, 26.4572198 ,  8.13916493, 12.33084383,\n",
       "        17.94422585, 55.32812126, 88.12852617],\n",
       "       [31.74323268, 28.27086281, 14.35163003,  2.88231764, 24.15308171,\n",
       "        56.24618381, 95.62104974, 44.30818801],\n",
       "       [28.29756742, 22.6137609 ,  9.69400336, 12.98167671, 16.67446132,\n",
       "        19.35289465, 70.39853453, 51.81351388],\n",
       "       [29.74510912, 17.15283331, 13.53449855,  5.09443547, 12.81619781,\n",
       "        30.01138487, 87.80817528, 46.95163579],\n",
       "       [30.63384526, 18.1198388 ,  7.52914832,  7.85018836, 17.06574845,\n",
       "        33.35929755, 36.86319091, 54.11815331],\n",
       "       [18.68379719, 18.01264365, 12.30714309,  7.93834   , 22.68390539,\n",
       "        33.00817418, 46.46087455, 62.543635  ]])"
      ]
     },
     "execution_count": 17,
     "metadata": {},
     "output_type": "execute_result"
    }
   ],
   "source": [
    "# print(euclidean_grid[1:(len(euclidean_grid)-1)])\n",
    "# euclidean_grid_almost = euclidean_grid[1:(len(euclidean_grid)-1)]\n",
    "# euclidean_grid_almost[:,1:9]\n",
    "euclidean_grid[1:9][:,1:9]"
   ]
  },
  {
   "cell_type": "code",
   "execution_count": 26,
   "metadata": {},
   "outputs": [
    {
     "data": {
      "image/png": "[encoded data removed]",
      "text/plain": [
       "<Figure size 800x600 with 2 Axes>"
      ]
     },
     "metadata": {},
     "output_type": "display_data"
    },
    {
     "name": "stdout",
     "output_type": "stream",
     "text": [
      "[[        inf         inf         inf         inf         inf         inf\n",
      "          inf         inf         inf         inf]\n",
      " [        inf  8.05633833 35.4081224  41.33441598 37.79524072 35.82634351\n",
      "  14.65718413  3.92032706  9.15538178         inf]\n",
      " [        inf 38.25631233 38.40541206 39.26807793 25.54023717  9.71809232\n",
      "  13.07272229 40.23729788 69.09661684         inf]\n",
      " [        inf 36.00314402 34.66702226 26.4572198   8.13916493 12.33084383\n",
      "  17.94422585 55.32812126 88.12852617         inf]\n",
      " [        inf 31.74323268 28.27086281 14.35163003  2.88231764 24.15308171\n",
      "  56.24618381 95.62104974 44.30818801         inf]\n",
      " [        inf 28.29756742 22.6137609   9.69400336 12.98167671 16.67446132\n",
      "  19.35289465 70.39853453 51.81351388         inf]\n",
      " [        inf 29.74510912 17.15283331 13.53449855  5.09443547 12.81619781\n",
      "  30.01138487 87.80817528 46.95163579         inf]\n",
      " [        inf 30.63384526 18.1198388   7.52914832  7.85018836 17.06574845\n",
      "  33.35929755 36.86319091 54.11815331         inf]\n",
      " [        inf 18.68379719 18.01264365 12.30714309  7.93834    22.68390539\n",
      "  33.00817418 46.46087455 62.543635           inf]\n",
      " [        inf         inf         inf         inf         inf         inf\n",
      "          inf         inf         inf         inf]]\n"
     ]
    }
   ],
   "source": [
    "colormap = sns.color_palette(\"magma\", as_cmap=True)\n",
    "plt.style.use('ggplot')\n",
    "plt.figure(figsize=(8,6))\n",
    "sns.heatmap(np.flip(euclidean_grid[1:9][:,1:9], axis = 0),cmap = colormap, vmin = 0, vmax = 100)\n",
    "plt.title(r\"np.random.seed(3)\") #change to what seed you used\n",
    "plt.xlabel(\"b\")\n",
    "plt.ylabel('a')\n",
    "# plt.xticks(ticks = np.arange(N)+0.5, labels = np.around(np.linspace(b_min,b_max,N),2))\n",
    "# plt.yticks(ticks = np.arange(N)+0.5, labels = np.around(np.linspace(a_max,a_min,N),2))\n",
    "plt.xticks(ticks = np.arange(8)+0.5, labels = np.around(np.linspace(b_min,b_max,N),2)[1:9])\n",
    "plt.yticks(ticks = np.arange(8)+0.5, labels = np.around(np.linspace(a_max,a_min,N),2)[1:9])\n",
    "plt.show()\n",
    "print(euclidean_grid)"
   ]
  },
  {
   "cell_type": "code",
   "execution_count": null,
   "metadata": {},
   "outputs": [],
   "source": []
  }
 ],
 "metadata": {
  "kernelspec": {
   "display_name": "bpe",
   "language": "python",
   "name": "python3"
  },
  "language_info": {
   "codemirror_mode": {
    "name": "ipython",
    "version": 3
   },
   "file_extension": ".py",
   "mimetype": "text/x-python",
   "name": "python",
   "nbconvert_exporter": "python",
   "pygments_lexer": "ipython3",
   "version": "3.11.3"
  },
  "orig_nbformat": 4
 },
 "nbformat": 4,
 "nbformat_minor": 2
}
